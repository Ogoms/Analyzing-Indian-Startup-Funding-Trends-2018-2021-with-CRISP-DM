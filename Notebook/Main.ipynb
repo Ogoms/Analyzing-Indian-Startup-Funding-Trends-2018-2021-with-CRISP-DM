{
 "cells": [
  {
   "cell_type": "markdown",
   "metadata": {},
   "source": [
    "#**Analyzing Indian Startup Funding Trends (2018-2021) with CRISP-DM**\n",
    "\n",
    "#**Description:**\n",
    "\n",
    "This project conducts an in-depth analysis of funding trends within the Indian startup ecosystem from 2018 to 2021, employing the CRISP-DM methodology. Leveraging comprehensive datasets on funding details, our goal is to identify patterns, fluctuations, and key insights into the funding landscape of Indian startups during this period. By examining funding amounts, types, sectors, and geographical distributions, we aim to provide actionable recommendations for stakeholders navigating the dynamic funding environment.\n",
    "\n",
    "#**Hypothesis**\n",
    "\n",
    "#**Null Hypothesis (H₀)**\n",
    "\n",
    "The funding landscape of Indian startups from 2018 to 2021 is not significantly influenced by economic conditions, industry sector performance, and investor sentiments.\n",
    "\n",
    "#**Alternative Hypothesis (H₁)**\n",
    "\n",
    "The funding landscape of Indian startups from 2018 to 2021 is significantly influenced by economic conditions, industry sector performance, and investor sentiments.\n",
    "\n",
    "**Business Questions**\n",
    "1. What are the overall trends in funding amounts received by startups in India from 2018 to 2021, and how do they vary across different years and sectors?\n",
    "2. Which funding stages (e.g., seed, Series A, Series B) have been most prevalent among Indian startups during this period, and have there been any notable shifts in stage preferences over time?\n",
    "3. Are there specific industry sectors that have consistently attracted higher levels of funding, and what are the driving factors behind their attractiveness to investors?\n",
    "4. How does the geographical distribution of funding vary across different regions of India, and are there any emerging startup hubs or regions experiencing significant growth in funding activity?\n",
    "5. What role do external factors such as global economic trends, government policies, and technological advancements play in shaping funding trends within the Indian startup ecosystem during this timeframe?"
   ]
  },
  {
   "cell_type": "markdown",
   "metadata": {},
   "source": []
  },
  {
   "cell_type": "code",
   "execution_count": null,
   "metadata": {},
   "outputs": [
    {
     "name": "stdout",
     "output_type": "stream",
     "text": [
      "pyodbc is installed and imported successfully\n"
     ]
    }
   ],
   "source": [
    "import pyodbc\n",
    "print(\"pyodbc is installed and imported successfully\")\n",
    "\n",
    "import pyodbc     \n",
    "from dotenv import dotenv_values    #import the dotenv_values function from the dotenv package\n",
    "import pandas as pd\n",
    "import warnings \n",
    "\n",
    "warnings.filterwarnings('ignore')\n",
    "\n",
    "# Load environment variables from .env file into a dictionary\n",
    "environment_variables = dotenv_values('.env')\n",
    "\n",
    "# Get the values for the credentials you set in the '.env' file\n",
    "server = environment_variables.get(\"SERVER_NAME\")\n",
    "database = environment_variables.get(\"DATABASE_NAME\")\n",
    "login = environment_variables.get(\"LOGIN\")\n",
    "password = environment_variables.get(\"PASSWORD\")\n",
    "\n",
    "\n"
   ]
  },
  {
   "cell_type": "code",
   "execution_count": null,
   "metadata": {},
   "outputs": [],
   "source": [
    "# Create a connection string\n",
    "connection_string = f\"DRIVER={{SQL Server}};SERVER={server};DATABASE={database};UID={login};PWD={password};MARS_Connection=yes;MinProtocolVersion=TLSv1.2;\""
   ]
  },
  {
   "cell_type": "code",
   "execution_count": null,
   "metadata": {},
   "outputs": [],
   "source": [
    "connection = pyodbc.connect(connection_string)"
   ]
  },
  {
   "cell_type": "code",
   "execution_count": null,
   "metadata": {},
   "outputs": [],
   "source": [
    "query = \"SELECT * FROM dbo.LP1_startup_funding2020\"\n",
    "\n",
    "data_1 = pd.read_sql(query, connection)"
   ]
  },
  {
   "cell_type": "code",
   "execution_count": null,
   "metadata": {},
   "outputs": [
    {
     "data": {
      "text/html": [
       "<div>\n",
       "<style scoped>\n",
       "    .dataframe tbody tr th:only-of-type {\n",
       "        vertical-align: middle;\n",
       "    }\n",
       "\n",
       "    .dataframe tbody tr th {\n",
       "        vertical-align: top;\n",
       "    }\n",
       "\n",
       "    .dataframe thead th {\n",
       "        text-align: right;\n",
       "    }\n",
       "</style>\n",
       "<table border=\"1\" class=\"dataframe\">\n",
       "  <thead>\n",
       "    <tr style=\"text-align: right;\">\n",
       "      <th></th>\n",
       "      <th>Company_Brand</th>\n",
       "      <th>Founded</th>\n",
       "      <th>HeadQuarter</th>\n",
       "      <th>Sector</th>\n",
       "      <th>What_it_does</th>\n",
       "      <th>Founders</th>\n",
       "      <th>Investor</th>\n",
       "      <th>Amount</th>\n",
       "      <th>Stage</th>\n",
       "      <th>column10</th>\n",
       "    </tr>\n",
       "  </thead>\n",
       "  <tbody>\n",
       "    <tr>\n",
       "      <th>0</th>\n",
       "      <td>Aqgromalin</td>\n",
       "      <td>2019.0</td>\n",
       "      <td>Chennai</td>\n",
       "      <td>AgriTech</td>\n",
       "      <td>Cultivating Ideas for Profit</td>\n",
       "      <td>Prasanna Manogaran, Bharani C L</td>\n",
       "      <td>Angel investors</td>\n",
       "      <td>200000.0</td>\n",
       "      <td>None</td>\n",
       "      <td>None</td>\n",
       "    </tr>\n",
       "    <tr>\n",
       "      <th>1</th>\n",
       "      <td>Krayonnz</td>\n",
       "      <td>2019.0</td>\n",
       "      <td>Bangalore</td>\n",
       "      <td>EdTech</td>\n",
       "      <td>An academy-guardian-scholar centric ecosystem ...</td>\n",
       "      <td>Saurabh Dixit, Gurudutt Upadhyay</td>\n",
       "      <td>GSF Accelerator</td>\n",
       "      <td>100000.0</td>\n",
       "      <td>Pre-seed</td>\n",
       "      <td>None</td>\n",
       "    </tr>\n",
       "    <tr>\n",
       "      <th>2</th>\n",
       "      <td>PadCare Labs</td>\n",
       "      <td>2018.0</td>\n",
       "      <td>Pune</td>\n",
       "      <td>Hygiene management</td>\n",
       "      <td>Converting bio-hazardous waste to harmless waste</td>\n",
       "      <td>Ajinkya Dhariya</td>\n",
       "      <td>Venture Center</td>\n",
       "      <td>NaN</td>\n",
       "      <td>Pre-seed</td>\n",
       "      <td>None</td>\n",
       "    </tr>\n",
       "    <tr>\n",
       "      <th>3</th>\n",
       "      <td>NCOME</td>\n",
       "      <td>2020.0</td>\n",
       "      <td>New Delhi</td>\n",
       "      <td>Escrow</td>\n",
       "      <td>Escrow-as-a-service platform</td>\n",
       "      <td>Ritesh Tiwari</td>\n",
       "      <td>Venture Catalysts, PointOne Capital</td>\n",
       "      <td>400000.0</td>\n",
       "      <td>None</td>\n",
       "      <td>None</td>\n",
       "    </tr>\n",
       "    <tr>\n",
       "      <th>4</th>\n",
       "      <td>Gramophone</td>\n",
       "      <td>2016.0</td>\n",
       "      <td>Indore</td>\n",
       "      <td>AgriTech</td>\n",
       "      <td>Gramophone is an AgTech platform enabling acce...</td>\n",
       "      <td>Ashish Rajan Singh, Harshit Gupta, Nishant Mah...</td>\n",
       "      <td>Siana Capital Management, Info Edge</td>\n",
       "      <td>340000.0</td>\n",
       "      <td>None</td>\n",
       "      <td>None</td>\n",
       "    </tr>\n",
       "  </tbody>\n",
       "</table>\n",
       "</div>"
      ],
      "text/plain": [
       "  Company_Brand  Founded HeadQuarter              Sector  \\\n",
       "0    Aqgromalin   2019.0     Chennai            AgriTech   \n",
       "1      Krayonnz   2019.0   Bangalore              EdTech   \n",
       "2  PadCare Labs   2018.0        Pune  Hygiene management   \n",
       "3         NCOME   2020.0   New Delhi              Escrow   \n",
       "4    Gramophone   2016.0      Indore            AgriTech   \n",
       "\n",
       "                                        What_it_does  \\\n",
       "0                       Cultivating Ideas for Profit   \n",
       "1  An academy-guardian-scholar centric ecosystem ...   \n",
       "2   Converting bio-hazardous waste to harmless waste   \n",
       "3                       Escrow-as-a-service platform   \n",
       "4  Gramophone is an AgTech platform enabling acce...   \n",
       "\n",
       "                                            Founders  \\\n",
       "0                    Prasanna Manogaran, Bharani C L   \n",
       "1                   Saurabh Dixit, Gurudutt Upadhyay   \n",
       "2                                    Ajinkya Dhariya   \n",
       "3                                      Ritesh Tiwari   \n",
       "4  Ashish Rajan Singh, Harshit Gupta, Nishant Mah...   \n",
       "\n",
       "                              Investor    Amount     Stage column10  \n",
       "0                      Angel investors  200000.0      None     None  \n",
       "1                      GSF Accelerator  100000.0  Pre-seed     None  \n",
       "2                       Venture Center       NaN  Pre-seed     None  \n",
       "3  Venture Catalysts, PointOne Capital  400000.0      None     None  \n",
       "4  Siana Capital Management, Info Edge  340000.0      None     None  "
      ]
     },
     "execution_count": 5,
     "metadata": {},
     "output_type": "execute_result"
    }
   ],
   "source": [
    "data_1.head()"
   ]
  },
  {
   "cell_type": "code",
   "execution_count": null,
   "metadata": {},
   "outputs": [
    {
     "name": "stdout",
     "output_type": "stream",
     "text": [
      "<class 'pandas.core.frame.DataFrame'>\n",
      "RangeIndex: 1055 entries, 0 to 1054\n",
      "Data columns (total 10 columns):\n",
      " #   Column         Non-Null Count  Dtype  \n",
      "---  ------         --------------  -----  \n",
      " 0   Company_Brand  1055 non-null   object \n",
      " 1   Founded        842 non-null    float64\n",
      " 2   HeadQuarter    961 non-null    object \n",
      " 3   Sector         1042 non-null   object \n",
      " 4   What_it_does   1055 non-null   object \n",
      " 5   Founders       1043 non-null   object \n",
      " 6   Investor       1017 non-null   object \n",
      " 7   Amount         801 non-null    float64\n",
      " 8   Stage          591 non-null    object \n",
      " 9   column10       2 non-null      object \n",
      "dtypes: float64(2), object(8)\n",
      "memory usage: 82.5+ KB\n"
     ]
    }
   ],
   "source": [
    "data_1.info()"
   ]
  },
  {
   "cell_type": "code",
   "execution_count": null,
   "metadata": {},
   "outputs": [
    {
     "data": {
      "text/plain": [
       "(1055, 10)"
      ]
     },
     "execution_count": 7,
     "metadata": {},
     "output_type": "execute_result"
    }
   ],
   "source": [
    "data_1.shape"
   ]
  },
  {
   "cell_type": "code",
   "execution_count": null,
   "metadata": {},
   "outputs": [],
   "source": [
    "query = \"SELECT * FROM dbo.LP1_startup_funding2021\"\n",
    "\n",
    "data_2 = pd.read_sql(query, connection)"
   ]
  },
  {
   "cell_type": "code",
   "execution_count": null,
   "metadata": {},
   "outputs": [
    {
     "data": {
      "text/html": [
       "<div>\n",
       "<style scoped>\n",
       "    .dataframe tbody tr th:only-of-type {\n",
       "        vertical-align: middle;\n",
       "    }\n",
       "\n",
       "    .dataframe tbody tr th {\n",
       "        vertical-align: top;\n",
       "    }\n",
       "\n",
       "    .dataframe thead th {\n",
       "        text-align: right;\n",
       "    }\n",
       "</style>\n",
       "<table border=\"1\" class=\"dataframe\">\n",
       "  <thead>\n",
       "    <tr style=\"text-align: right;\">\n",
       "      <th></th>\n",
       "      <th>Company_Brand</th>\n",
       "      <th>Founded</th>\n",
       "      <th>HeadQuarter</th>\n",
       "      <th>Sector</th>\n",
       "      <th>What_it_does</th>\n",
       "      <th>Founders</th>\n",
       "      <th>Investor</th>\n",
       "      <th>Amount</th>\n",
       "      <th>Stage</th>\n",
       "    </tr>\n",
       "  </thead>\n",
       "  <tbody>\n",
       "    <tr>\n",
       "      <th>0</th>\n",
       "      <td>Unbox Robotics</td>\n",
       "      <td>2019.0</td>\n",
       "      <td>Bangalore</td>\n",
       "      <td>AI startup</td>\n",
       "      <td>Unbox Robotics builds on-demand AI-driven ware...</td>\n",
       "      <td>Pramod Ghadge, Shahid Memon</td>\n",
       "      <td>BEENEXT, Entrepreneur First</td>\n",
       "      <td>$1,200,000</td>\n",
       "      <td>Pre-series A</td>\n",
       "    </tr>\n",
       "    <tr>\n",
       "      <th>1</th>\n",
       "      <td>upGrad</td>\n",
       "      <td>2015.0</td>\n",
       "      <td>Mumbai</td>\n",
       "      <td>EdTech</td>\n",
       "      <td>UpGrad is an online higher education platform.</td>\n",
       "      <td>Mayank Kumar, Phalgun Kompalli, Ravijot Chugh,...</td>\n",
       "      <td>Unilazer Ventures, IIFL Asset Management</td>\n",
       "      <td>$120,000,000</td>\n",
       "      <td>None</td>\n",
       "    </tr>\n",
       "    <tr>\n",
       "      <th>2</th>\n",
       "      <td>Lead School</td>\n",
       "      <td>2012.0</td>\n",
       "      <td>Mumbai</td>\n",
       "      <td>EdTech</td>\n",
       "      <td>LEAD School offers technology based school tra...</td>\n",
       "      <td>Smita Deorah, Sumeet Mehta</td>\n",
       "      <td>GSV Ventures, Westbridge Capital</td>\n",
       "      <td>$30,000,000</td>\n",
       "      <td>Series D</td>\n",
       "    </tr>\n",
       "    <tr>\n",
       "      <th>3</th>\n",
       "      <td>Bizongo</td>\n",
       "      <td>2015.0</td>\n",
       "      <td>Mumbai</td>\n",
       "      <td>B2B E-commerce</td>\n",
       "      <td>Bizongo is a business-to-business online marke...</td>\n",
       "      <td>Aniket Deb, Ankit Tomar, Sachin Agrawal</td>\n",
       "      <td>CDC Group, IDG Capital</td>\n",
       "      <td>$51,000,000</td>\n",
       "      <td>Series C</td>\n",
       "    </tr>\n",
       "    <tr>\n",
       "      <th>4</th>\n",
       "      <td>FypMoney</td>\n",
       "      <td>2021.0</td>\n",
       "      <td>Gurugram</td>\n",
       "      <td>FinTech</td>\n",
       "      <td>FypMoney is Digital NEO Bank for Teenagers, em...</td>\n",
       "      <td>Kapil Banwari</td>\n",
       "      <td>Liberatha Kallat, Mukesh Yadav, Dinesh Nagpal</td>\n",
       "      <td>$2,000,000</td>\n",
       "      <td>Seed</td>\n",
       "    </tr>\n",
       "  </tbody>\n",
       "</table>\n",
       "</div>"
      ],
      "text/plain": [
       "    Company_Brand  Founded HeadQuarter          Sector  \\\n",
       "0  Unbox Robotics   2019.0   Bangalore      AI startup   \n",
       "1          upGrad   2015.0      Mumbai          EdTech   \n",
       "2     Lead School   2012.0      Mumbai          EdTech   \n",
       "3         Bizongo   2015.0      Mumbai  B2B E-commerce   \n",
       "4        FypMoney   2021.0    Gurugram         FinTech   \n",
       "\n",
       "                                        What_it_does  \\\n",
       "0  Unbox Robotics builds on-demand AI-driven ware...   \n",
       "1     UpGrad is an online higher education platform.   \n",
       "2  LEAD School offers technology based school tra...   \n",
       "3  Bizongo is a business-to-business online marke...   \n",
       "4  FypMoney is Digital NEO Bank for Teenagers, em...   \n",
       "\n",
       "                                            Founders  \\\n",
       "0                        Pramod Ghadge, Shahid Memon   \n",
       "1  Mayank Kumar, Phalgun Kompalli, Ravijot Chugh,...   \n",
       "2                         Smita Deorah, Sumeet Mehta   \n",
       "3            Aniket Deb, Ankit Tomar, Sachin Agrawal   \n",
       "4                                      Kapil Banwari   \n",
       "\n",
       "                                        Investor        Amount         Stage  \n",
       "0                    BEENEXT, Entrepreneur First    $1,200,000  Pre-series A  \n",
       "1       Unilazer Ventures, IIFL Asset Management  $120,000,000          None  \n",
       "2               GSV Ventures, Westbridge Capital   $30,000,000      Series D  \n",
       "3                         CDC Group, IDG Capital   $51,000,000      Series C  \n",
       "4  Liberatha Kallat, Mukesh Yadav, Dinesh Nagpal    $2,000,000          Seed  "
      ]
     },
     "execution_count": 9,
     "metadata": {},
     "output_type": "execute_result"
    }
   ],
   "source": [
    "data_2.head()"
   ]
  },
  {
   "cell_type": "code",
   "execution_count": null,
   "metadata": {},
   "outputs": [
    {
     "name": "stdout",
     "output_type": "stream",
     "text": [
      "<class 'pandas.core.frame.DataFrame'>\n",
      "RangeIndex: 1209 entries, 0 to 1208\n",
      "Data columns (total 9 columns):\n",
      " #   Column         Non-Null Count  Dtype  \n",
      "---  ------         --------------  -----  \n",
      " 0   Company_Brand  1209 non-null   object \n",
      " 1   Founded        1208 non-null   float64\n",
      " 2   HeadQuarter    1208 non-null   object \n",
      " 3   Sector         1209 non-null   object \n",
      " 4   What_it_does   1209 non-null   object \n",
      " 5   Founders       1205 non-null   object \n",
      " 6   Investor       1147 non-null   object \n",
      " 7   Amount         1206 non-null   object \n",
      " 8   Stage          781 non-null    object \n",
      "dtypes: float64(1), object(8)\n",
      "memory usage: 85.1+ KB\n"
     ]
    }
   ],
   "source": [
    "data_2.info()"
   ]
  },
  {
   "cell_type": "code",
   "execution_count": null,
   "metadata": {},
   "outputs": [
    {
     "data": {
      "text/plain": [
       "(1209, 9)"
      ]
     },
     "execution_count": 11,
     "metadata": {},
     "output_type": "execute_result"
    }
   ],
   "source": [
    "data_2.shape"
   ]
  },
  {
   "cell_type": "code",
   "execution_count": null,
   "metadata": {},
   "outputs": [
    {
     "data": {
      "text/plain": [
       "(2264, 10)"
      ]
     },
     "execution_count": 12,
     "metadata": {},
     "output_type": "execute_result"
    }
   ],
   "source": [
    "df = pd.concat([data_1,data_2])\n",
    "\n",
    "df.shape"
   ]
  },
  {
   "cell_type": "code",
   "execution_count": null,
   "metadata": {},
   "outputs": [
    {
     "name": "stdout",
     "output_type": "stream",
     "text": [
      "Data 3:\n",
      "         Company Name                                           Industry  \\\n",
      "0     TheCollegeFever  Brand Marketing, Event Promotion, Marketing, S...   \n",
      "1     Happy Cow Dairy                               Agriculture, Farming   \n",
      "2          MyLoanCare   Credit, Financial Services, Lending, Marketplace   \n",
      "3         PayMe India                        Financial Services, FinTech   \n",
      "4            Eunimart                 E-Commerce Platforms, Retail, SaaS   \n",
      "5              Hasura                   Cloud Infrastructure, PaaS, SaaS   \n",
      "6           Tripshelf                     Internet, Leisure, Marketplace   \n",
      "7        Hyperdata.IO                                    Market Research   \n",
      "8        Freightwalla       Information Services, Information Technology   \n",
      "9  Microchip Payments                                    Mobile Payments   \n",
      "\n",
      "  Round/Series       Amount                          Location  \\\n",
      "0         Seed       250000       Bangalore, Karnataka, India   \n",
      "1         Seed  ₹40,000,000        Mumbai, Maharashtra, India   \n",
      "2     Series A  ₹65,000,000           Gurgaon, Haryana, India   \n",
      "3        Angel      2000000       Noida, Uttar Pradesh, India   \n",
      "4         Seed            —  Hyderabad, Andhra Pradesh, India   \n",
      "5         Seed      1600000       Bengaluru, Karnataka, India   \n",
      "6         Seed  ₹16,000,000             Kalkaji, Delhi, India   \n",
      "7        Angel  ₹50,000,000  Hyderabad, Andhra Pradesh, India   \n",
      "8         Seed            —        Mumbai, Maharashtra, India   \n",
      "9         Seed            —       Bangalore, Karnataka, India   \n",
      "\n",
      "                                       About Company  \n",
      "0  TheCollegeFever is a hub for fun, fiesta and f...  \n",
      "1  A startup which aggregates milk from dairy far...  \n",
      "2          Leading Online Loans Marketplace in India  \n",
      "3  PayMe India is an innovative FinTech organizat...  \n",
      "4  Eunimart is a one stop solution for merchants ...  \n",
      "5  Hasura is a platform that allows developers to...  \n",
      "6  Tripshelf is an online market place for holida...  \n",
      "7  Hyperdata combines advanced machine learning w...  \n",
      "8  Freightwalla is an international forwarder tha...  \n",
      "9  Microchip payments is a mobile-based payment a...  \n"
     ]
    }
   ],
   "source": [
    "# Load the CSV file into  DataFrame\n",
    "df_data_3 = pd.read_csv('C:\\\\Users\\\\hp\\\\Desktop\\\\LP1\\\\Datasets\\\\Indian-Startup-Funding-Analysis\\\\startup_funding2018.csv')\n",
    "df_data_4 = pd.read_csv('C:\\\\Users\\\\hp\\\\Desktop\\\\LP1\\\\Datasets\\\\Indian-Startup-Funding-Analysis\\\\startup_funding2019.csv')\n",
    "\n",
    "# Display the first few rows of each DataFrame\n",
    "print(\"Data 3:\")\n",
    "print(df_data_3.head(10))\n",
    "\n"
   ]
  },
  {
   "cell_type": "code",
   "execution_count": null,
   "metadata": {},
   "outputs": [
    {
     "name": "stdout",
     "output_type": "stream",
     "text": [
      "\n",
      "Data 4:\n",
      "    Company/Brand  Founded HeadQuarter           Sector  \\\n",
      "0  Bombay Shaving      NaN         NaN        Ecommerce   \n",
      "1       Ruangguru   2014.0      Mumbai           Edtech   \n",
      "2        Eduisfun      NaN      Mumbai           Edtech   \n",
      "3        HomeLane   2014.0     Chennai  Interior design   \n",
      "4        Nu Genes   2004.0   Telangana         AgriTech   \n",
      "5        FlytBase      NaN        Pune       Technology   \n",
      "6           Finly      NaN   Bangalore             SaaS   \n",
      "7        Kratikal   2013.0       Noida       Technology   \n",
      "8       Quantiphi      NaN         NaN        AI & Tech   \n",
      "9        Lenskart   2010.0       Delhi       E-commerce   \n",
      "\n",
      "                                        What it does  \\\n",
      "0         Provides a range of male grooming products   \n",
      "1  A learning platform that provides topic-based ...   \n",
      "2            It aims to make learning fun via games.   \n",
      "3              Provides interior designing solutions   \n",
      "4  It is a seed company engaged in production, pr...   \n",
      "5                        A drone automation platform   \n",
      "6  It builds software products that makes work si...   \n",
      "7  It is a product-based cybersecurity solutions ...   \n",
      "8  It is an AI and big data services company prov...   \n",
      "9                            It is a eyewear company   \n",
      "\n",
      "                                          Founders  \\\n",
      "0                               Shantanu Deshpande   \n",
      "1            Adamas Belva Syah Devara, Iman Usman.   \n",
      "2                                    Jatin Solanki   \n",
      "3                     Srikanth Iyer, Rama Harinath   \n",
      "4                           Narayana Reddy Punyala   \n",
      "5                                      Nitin Gupta   \n",
      "6                        Vivek AG, Veekshith C Rai   \n",
      "7  Pavan Kushwaha, Paratosh Bansal, Dip Jung Thapa   \n",
      "8                                   Renuka Ramnath   \n",
      "9     Peyush Bansal, Amit Chaudhary, Sumeet Kapahi   \n",
      "\n",
      "                                            Investor     Amount($)  \\\n",
      "0                               Sixth Sense Ventures    $6,300,000   \n",
      "1                                   General Atlantic  $150,000,000   \n",
      "2     Deepak Parekh, Amitabh Bachchan, Piyush Pandey   $28,000,000   \n",
      "3  Evolvence India Fund (EIF), Pidilite Group, FJ...   $30,000,000   \n",
      "4           Innovation in Food and Agriculture (IFA)    $6,000,000   \n",
      "5                                        Undisclosed   Undisclosed   \n",
      "6  Social Capital, AngelList India, Gemba Capital...   Undisclosed   \n",
      "7         Gilda VC, Art Venture, Rajeev Chitrabhanu.    $1,000,000   \n",
      "8               Multiples Alternate Asset Management   $20,000,000   \n",
      "9                                           SoftBank  $275,000,000   \n",
      "\n",
      "           Stage  \n",
      "0            NaN  \n",
      "1       Series C  \n",
      "2  Fresh funding  \n",
      "3       Series D  \n",
      "4            NaN  \n",
      "5            NaN  \n",
      "6            NaN  \n",
      "7   Pre series A  \n",
      "8       Series A  \n",
      "9       Series G  \n"
     ]
    }
   ],
   "source": [
    "print(\"\\nData 4:\")\n",
    "print(df_data_4.head(10))"
   ]
  }
 ],
 "metadata": {
  "kernelspec": {
   "display_name": "Python 3",
   "language": "python",
   "name": "python3"
  },
  "language_info": {
   "codemirror_mode": {
    "name": "ipython",
    "version": 3
   },
   "file_extension": ".py",
   "mimetype": "text/x-python",
   "name": "python",
   "nbconvert_exporter": "python",
   "pygments_lexer": "ipython3",
   "version": "3.10.9"
  }
 },
 "nbformat": 4,
 "nbformat_minor": 2
}
