{
 "cells": [
  {
   "cell_type": "markdown",
   "metadata": {},
   "source": [
    "**ANALYZING INDIAN STARTUP FUNDING TRENDS (2018-2021) WITH CRISP-DM**\n",
    "\n",
    "**Description:**\n",
    "\n",
    "This project conducts an in-depth analysis of funding trends within the Indian startup ecosystem from 2018 to 2021, employing the CRISP-DM methodology. Leveraging comprehensive datasets on funding details, our goal is to identify patterns, fluctuations, and key insights into the funding landscape of Indian startups during this period. By examining funding amounts, types, sectors, and geographical distributions, we aim to provide actionable recommendations for stakeholders navigating the dynamic funding environment.\n",
    "\n",
    "**Hypothesis**\n",
    "\n",
    "**Null Hypothesis (H₀)**\n",
    "\n",
    "The funding landscape of Indian startups from 2018 to 2021 is not significantly influenced by economic conditions, industry sector performance, and investor sentiments.\n",
    "\n",
    "**Alternative Hypothesis (H₁)**\n",
    "\n",
    "The funding landscape of Indian startups from 2018 to 2021 is significantly influenced by economic conditions, industry sector performance, and investor sentiments.\n",
    "\n",
    "**Primary Business Question:**\n",
    "\n",
    "How have funding trends evolved in the Indian startup ecosystem from 2018 to 2021, and what insights can be derived to inform investment decisions, policy-making, and strategic planning for stakeholders?\n",
    "\n",
    "**Sub-Questions:**\n",
    "\n",
    "1. **Yearly Funding Trends:**\n",
    "\n",
    "How did the total funding amounts received by startups change each year from 2018 to 2021?\n",
    "\n",
    "Were there any significant peaks or troughs in funding during this period, and what external factors (e.g., economic conditions, policy changes) might have influenced these trends?\n",
    "\n",
    "2. **Sector-Specific Funding Analysis:**\n",
    "\n",
    "Which sectors (e.g., technology, healthcare, fintech) received the most funding, and how did this distribution change over the four years?\n",
    "\n",
    "What characteristics make certain sectors more attractive to investors, and how have sector-specific trends impacted the overall funding landscape?\n",
    "\n",
    "3. **Funding Stages and Evolution:**\n",
    "\n",
    "What were the most common funding stages (e.g., seed, Series A, Series B) for Indian startups during this period?\n",
    "\n",
    "How did the prevalence of different funding stages shift over time, and what does this indicate about the maturity and development of the Indian startup ecosystem?\n",
    "\n",
    "4. **Geographical Distribution of Funding:**\n",
    "\n",
    "How was funding distributed across various regions in India, and which regions emerged as major startup hubs from 2018 to 2021?\n",
    "\n",
    "What factors contributed to the rise of these startup hubs, and how did regional policies or infrastructure developments influence funding patterns?\n",
    "\n",
    "5. **Impact of External Factors:**\n",
    "\n",
    "How did global economic trends, such as market fluctuations and international trade relations, affect funding trends in the Indian startup ecosystem?\n",
    "\n",
    "In what ways did government policies, incentives, and regulatory changes impact the funding landscape?\n",
    "\n",
    "How did advancements in technology and shifts in consumer behavior influence investor interest and funding decisions?\n",
    "\n",
    "6. **Investor Behavior and Preferences:**\n",
    "\n",
    "Who were the most active investors in the Indian startup ecosystem during this period, and what were their investment strategies?\n",
    "\n",
    "How did investor preferences evolve concerning sectors, funding stages, and geographic locations?\n",
    "\n",
    "7. **Success Metrics and Funding Outcomes:**\n",
    "\n",
    "What correlation exists between the amount of funding received and the success metrics of startups (e.g., revenue growth, market expansion)?\n",
    "\n",
    "\n",
    "\n",
    "**CRISP-DM Strategy (One-Month Timeline)**\n",
    "\n",
    "**Week 1: Business Understanding & Data Understanding**\n",
    "**Objective:** Define project objectives, gather requirements, and understand the provided datasets.\n",
    "\n",
    "**Tasks:**\n",
    "1. Conduct meetings with team members to clarify project goals and expectations.\n",
    "2. Perform initial exploration of the datasets to understand their structure and content.\n",
    "3. Identify key variables and metrics of interest for analysis.\n",
    "\n",
    "**Week 2: Data Preparation and Cleaning**\n",
    "**Objective:** Clean and preprocess the datasets to ensure they are ready for analysis.\n",
    "\n",
    "**Tasks:**\n",
    "1. Address missing values, remove duplicates, and handle inconsistencies in the data.\n",
    "2. Conduct exploratory data analysis (EDA) to uncover patterns and trends.\n",
    "\n",
    "**Week 3: Modeling & Evaluation**\n",
    "**Objective:** Build models and evaluate their performance to derive insights.\n",
    "\n",
    "**Tasks:**\n",
    "1. Build predictive models to analyze startup success factors or funding outcomes.\n",
    "2. Evaluate model performance using appropriate metrics and validation techniques.\n",
    "\n",
    "**Week 4: Deployment**\n",
    "**Objective:** Present findings and provide actionable recommendations to stakeholders.\n",
    "\n",
    "**Tasks:**\n",
    "1. Create visualizations and reports to communicate insights effectively.\n",
    "2. Summarize key findings and implications for decision-making.\n",
    "3. Present actionable recommendations based on the analysis.\n",
    "4. Document the entire process, including methodologies, findings, and recommendations (Article)."
   ]
  },
  {
   "cell_type": "markdown",
   "metadata": {},
   "source": []
  },
  {
   "cell_type": "markdown",
   "metadata": {},
   "source": [
    "## Business Understanding & Data Understanding"
   ]
  },
  {
   "cell_type": "markdown",
   "metadata": {},
   "source": [
    "**Datasets Importation**"
   ]
  },
  {
   "cell_type": "code",
   "execution_count": 68,
   "metadata": {},
   "outputs": [
    {
     "name": "stdout",
     "output_type": "stream",
     "text": [
      "pyodbc is installed and imported successfully\n"
     ]
    }
   ],
   "source": [
    "# Connect to the Database Using \"pyodbc\"\n",
    "import pyodbc\n",
    "print(\"pyodbc is installed and imported successfully\")\n",
    "\n",
    "import pyodbc\n",
    "from dotenv import dotenv_values    #import the dotenv_values function from the dotenv package\n",
    "import pandas as pd\n",
    "import warnings \n",
    "\n",
    "warnings.filterwarnings('ignore')\n",
    "\n",
    "# Load environment variables from .env file into a dictionary\n",
    "environment_variables = dotenv_values('.env')\n",
    "\n",
    "# Get the values for the credentials set in the '.env' file\n",
    "server = environment_variables.get(\"SERVER_NAME\")\n",
    "database = environment_variables.get(\"DATABASE_NAME\")\n",
    "login = environment_variables.get(\"LOGIN\")\n",
    "password = environment_variables.get(\"PASSWORD\")\n",
    "\n",
    "\n",
    "\n"
   ]
  },
  {
   "cell_type": "code",
   "execution_count": 69,
   "metadata": {},
   "outputs": [],
   "source": [
    "# Create a connection string\n",
    "connection_string = f\"DRIVER={{SQL Server}};SERVER={server};DATABASE={database};UID={login};PWD={password};MARS_Connection=yes;MinProtocolVersion=TLSv1.2;\"\n"
   ]
  },
  {
   "cell_type": "code",
   "execution_count": 70,
   "metadata": {},
   "outputs": [
    {
     "name": "stdout",
     "output_type": "stream",
     "text": [
      "Connection successful\n"
     ]
    }
   ],
   "source": [
    "# connect to the Database\n",
    "connection = pyodbc.connect(connection_string)\n",
    "print(\"Connection successful\")\n"
   ]
  },
  {
   "cell_type": "code",
   "execution_count": 71,
   "metadata": {},
   "outputs": [],
   "source": [
    "# Query the Sql Database\n",
    "query = \"SELECT * FROM dbo.LP1_startup_funding2020\"\n",
    "\n",
    "# Execute the query and read the results into a DataFrame\n",
    "data_1 = pd.read_sql(query, connection)\n"
   ]
  },
  {
   "cell_type": "code",
   "execution_count": 72,
   "metadata": {},
   "outputs": [],
   "source": [
    "query = \"SELECT * FROM dbo.LP1_startup_funding2021\"\n",
    "\n",
    "data_2 = pd.read_sql(query, connection)"
   ]
  },
  {
   "cell_type": "code",
   "execution_count": 73,
   "metadata": {},
   "outputs": [],
   "source": [
    "# Load the CSV file into  DataFrame\n",
    "\n",
    "\n",
    "df_data_3 = pd.read_csv('../CSV Files/startup_funding2018.csv')\n",
    "\n",
    "df_data_4 = pd.read_csv('../CSV Files/startup_funding2019.csv')"
   ]
  },
  {
   "cell_type": "markdown",
   "metadata": {},
   "source": [
    "**Initial Exploration**"
   ]
  },
  {
   "cell_type": "code",
   "execution_count": 74,
   "metadata": {},
   "outputs": [
    {
     "name": "stdout",
     "output_type": "stream",
     "text": [
      "Columns in data_1: Index(['Company_Brand', 'Founded', 'HeadQuarter', 'Sector', 'What_it_does',\n",
      "       'Founders', 'Investor', 'Amount', 'Stage', 'column10'],\n",
      "      dtype='object')\n",
      "Columns in data_2: Index(['Company_Brand', 'Founded', 'HeadQuarter', 'Sector', 'What_it_does',\n",
      "       'Founders', 'Investor', 'Amount', 'Stage'],\n",
      "      dtype='object')\n",
      "Columns in df_data_3: Index(['Company Name', 'Industry', 'Round/Series', 'Amount', 'Location',\n",
      "       'About Company'],\n",
      "      dtype='object')\n",
      "Columns in df_data_4: Index(['Company/Brand', 'Founded', 'HeadQuarter', 'Sector', 'What it does',\n",
      "       'Founders', 'Investor', 'Amount($)', 'Stage'],\n",
      "      dtype='object')\n"
     ]
    }
   ],
   "source": [
    "# Inspect columns of each DataFrame\n",
    "print(\"Columns in data_1:\", data_1.columns)\n",
    "print(\"Columns in data_2:\", data_2.columns)\n",
    "print(\"Columns in df_data_3:\", df_data_3.columns)\n",
    "print(\"Columns in df_data_4:\", df_data_4.columns)\n"
   ]
  },
  {
   "cell_type": "code",
   "execution_count": 75,
   "metadata": {},
   "outputs": [],
   "source": [
    "# Define a function to convert rupees to dollars\n",
    "def rupees_to_dollars(amount, currency):\n",
    "    if currency.lower() == 'rupees':\n",
    "        return amount * 0.014  # Conversion rate from rupees to dollars\n",
    "    else:\n",
    "        return amount"
   ]
  },
  {
   "cell_type": "code",
   "execution_count": 76,
   "metadata": {},
   "outputs": [],
   "source": [
    "# Standardize column names\n",
    "df_data_3 = df_data_3.rename(columns={\n",
    "    'Company Name': 'Company_Brand',\n",
    "    'Industry': 'Sector',\n",
    "    'Round/Series': 'Stage',\n",
    "    'Amount': 'Amount',\n",
    "    'Location': 'HeadQuarter',\n",
    "    'About Company': 'What_it_does'\n",
    "})\n",
    "\n",
    "df_data_4 = df_data_4.rename(columns={\n",
    "    'Company/Brand': 'Company_Brand',\n",
    "    'What it does': 'What_it_does',\n",
    "    'Amount($)': 'Amount'\n",
    "})"
   ]
  },
  {
   "cell_type": "code",
   "execution_count": 77,
   "metadata": {},
   "outputs": [],
   "source": [
    "# Ensure all DataFrames have the same columns\n",
    "common_columns = ['Company_Brand', 'Founded', 'HeadQuarter', 'Sector', 'What_it_does', 'Founders', 'Investor', 'Amount', 'Stage', 'column10']\n"
   ]
  },
  {
   "cell_type": "code",
   "execution_count": 78,
   "metadata": {},
   "outputs": [],
   "source": [
    "\n",
    "# Check if 'column10' is present in data_1 and data_2\n",
    "if 'column10' not in data_1.columns:\n",
    "    data_1['column10'] = pd.NA\n",
    "if 'column10' not in data_2.columns:\n",
    "    data_2['column10'] = pd.NA\n",
    "\n",
    "# Add missing columns to df_data_3\n",
    "for column in common_columns:\n",
    "    if column not in df_data_3.columns:\n",
    "        df_data_3[column] = pd.NA\n",
    "\n",
    "# Add missing columns to df_data_4\n",
    "for column in common_columns:\n",
    "    if column not in df_data_4.columns:\n",
    "        df_data_4[column] = pd.NA\n",
    "\n",
    "# Align columns in each DataFrame\n",
    "data_1 = data_1[common_columns]\n",
    "data_2 = data_2[common_columns]\n",
    "df_data_3 = df_data_3[common_columns]\n",
    "df_data_4 = df_data_4[common_columns]\n",
    "\n",
    "# Apply the conversion function to the 'Amount' column in all DataFrames\n",
    "data_1['Amount'] = data_1.apply(lambda row: rupees_to_dollars(row['Amount'], 'dollars'), axis=1)\n",
    "data_2['Amount'] = data_2.apply(lambda row: rupees_to_dollars(row['Amount'], 'dollars'), axis=1)\n",
    "df_data_3['Amount'] = df_data_3.apply(lambda row: rupees_to_dollars(row['Amount'], 'dollars'), axis=1)\n",
    "df_data_4['Amount'] = df_data_4.apply(lambda row: rupees_to_dollars(row['Amount'], 'dollars'), axis=1)\n",
    "\n",
    "\n",
    "\n",
    "# Concatenate the DataFrames\n",
    "merged_data = pd.concat([data_1, data_2, df_data_3, df_data_4], ignore_index=True)\n",
    "\n",
    "\n"
   ]
  },
  {
   "cell_type": "markdown",
   "metadata": {},
   "source": [
    "**Initial Exploration**\n"
   ]
  },
  {
   "cell_type": "code",
   "execution_count": 80,
   "metadata": {},
   "outputs": [
    {
     "name": "stdout",
     "output_type": "stream",
     "text": [
      "First 5 rows of the merged dataset:\n"
     ]
    },
    {
     "data": {
      "text/html": [
       "<div>\n",
       "<style scoped>\n",
       "    .dataframe tbody tr th:only-of-type {\n",
       "        vertical-align: middle;\n",
       "    }\n",
       "\n",
       "    .dataframe tbody tr th {\n",
       "        vertical-align: top;\n",
       "    }\n",
       "\n",
       "    .dataframe thead th {\n",
       "        text-align: right;\n",
       "    }\n",
       "</style>\n",
       "<table border=\"1\" class=\"dataframe\">\n",
       "  <thead>\n",
       "    <tr style=\"text-align: right;\">\n",
       "      <th></th>\n",
       "      <th>Company_Brand</th>\n",
       "      <th>Founded</th>\n",
       "      <th>HeadQuarter</th>\n",
       "      <th>Sector</th>\n",
       "      <th>What_it_does</th>\n",
       "      <th>Founders</th>\n",
       "      <th>Investor</th>\n",
       "      <th>Amount</th>\n",
       "      <th>Stage</th>\n",
       "      <th>column10</th>\n",
       "    </tr>\n",
       "  </thead>\n",
       "  <tbody>\n",
       "    <tr>\n",
       "      <th>0</th>\n",
       "      <td>Aqgromalin</td>\n",
       "      <td>2019.0</td>\n",
       "      <td>Chennai</td>\n",
       "      <td>AgriTech</td>\n",
       "      <td>Cultivating Ideas for Profit</td>\n",
       "      <td>Prasanna Manogaran, Bharani C L</td>\n",
       "      <td>Angel investors</td>\n",
       "      <td>200000.0</td>\n",
       "      <td>None</td>\n",
       "      <td>None</td>\n",
       "    </tr>\n",
       "    <tr>\n",
       "      <th>1</th>\n",
       "      <td>Krayonnz</td>\n",
       "      <td>2019.0</td>\n",
       "      <td>Bangalore</td>\n",
       "      <td>EdTech</td>\n",
       "      <td>An academy-guardian-scholar centric ecosystem ...</td>\n",
       "      <td>Saurabh Dixit, Gurudutt Upadhyay</td>\n",
       "      <td>GSF Accelerator</td>\n",
       "      <td>100000.0</td>\n",
       "      <td>Pre-seed</td>\n",
       "      <td>None</td>\n",
       "    </tr>\n",
       "    <tr>\n",
       "      <th>2</th>\n",
       "      <td>PadCare Labs</td>\n",
       "      <td>2018.0</td>\n",
       "      <td>Pune</td>\n",
       "      <td>Hygiene management</td>\n",
       "      <td>Converting bio-hazardous waste to harmless waste</td>\n",
       "      <td>Ajinkya Dhariya</td>\n",
       "      <td>Venture Center</td>\n",
       "      <td>NaN</td>\n",
       "      <td>Pre-seed</td>\n",
       "      <td>None</td>\n",
       "    </tr>\n",
       "    <tr>\n",
       "      <th>3</th>\n",
       "      <td>NCOME</td>\n",
       "      <td>2020.0</td>\n",
       "      <td>New Delhi</td>\n",
       "      <td>Escrow</td>\n",
       "      <td>Escrow-as-a-service platform</td>\n",
       "      <td>Ritesh Tiwari</td>\n",
       "      <td>Venture Catalysts, PointOne Capital</td>\n",
       "      <td>400000.0</td>\n",
       "      <td>None</td>\n",
       "      <td>None</td>\n",
       "    </tr>\n",
       "    <tr>\n",
       "      <th>4</th>\n",
       "      <td>Gramophone</td>\n",
       "      <td>2016.0</td>\n",
       "      <td>Indore</td>\n",
       "      <td>AgriTech</td>\n",
       "      <td>Gramophone is an AgTech platform enabling acce...</td>\n",
       "      <td>Ashish Rajan Singh, Harshit Gupta, Nishant Mah...</td>\n",
       "      <td>Siana Capital Management, Info Edge</td>\n",
       "      <td>340000.0</td>\n",
       "      <td>None</td>\n",
       "      <td>None</td>\n",
       "    </tr>\n",
       "  </tbody>\n",
       "</table>\n",
       "</div>"
      ],
      "text/plain": [
       "  Company_Brand  Founded HeadQuarter              Sector  \\\n",
       "0    Aqgromalin   2019.0     Chennai            AgriTech   \n",
       "1      Krayonnz   2019.0   Bangalore              EdTech   \n",
       "2  PadCare Labs   2018.0        Pune  Hygiene management   \n",
       "3         NCOME   2020.0   New Delhi              Escrow   \n",
       "4    Gramophone   2016.0      Indore            AgriTech   \n",
       "\n",
       "                                        What_it_does  \\\n",
       "0                       Cultivating Ideas for Profit   \n",
       "1  An academy-guardian-scholar centric ecosystem ...   \n",
       "2   Converting bio-hazardous waste to harmless waste   \n",
       "3                       Escrow-as-a-service platform   \n",
       "4  Gramophone is an AgTech platform enabling acce...   \n",
       "\n",
       "                                            Founders  \\\n",
       "0                    Prasanna Manogaran, Bharani C L   \n",
       "1                   Saurabh Dixit, Gurudutt Upadhyay   \n",
       "2                                    Ajinkya Dhariya   \n",
       "3                                      Ritesh Tiwari   \n",
       "4  Ashish Rajan Singh, Harshit Gupta, Nishant Mah...   \n",
       "\n",
       "                              Investor    Amount     Stage column10  \n",
       "0                      Angel investors  200000.0      None     None  \n",
       "1                      GSF Accelerator  100000.0  Pre-seed     None  \n",
       "2                       Venture Center       NaN  Pre-seed     None  \n",
       "3  Venture Catalysts, PointOne Capital  400000.0      None     None  \n",
       "4  Siana Capital Management, Info Edge  340000.0      None     None  "
      ]
     },
     "execution_count": 80,
     "metadata": {},
     "output_type": "execute_result"
    }
   ],
   "source": [
    "# Display the first few rows of the combined DataFrame\n",
    "print(\"First 5 rows of the merged dataset:\")\n",
    "\n",
    "merged_data.head()\n"
   ]
  },
  {
   "cell_type": "code",
   "execution_count": 83,
   "metadata": {},
   "outputs": [
    {
     "name": "stdout",
     "output_type": "stream",
     "text": [
      "\n",
      "Structure of the merged dataset:\n",
      "<class 'pandas.core.frame.DataFrame'>\n",
      "RangeIndex: 2879 entries, 0 to 2878\n",
      "Data columns (total 10 columns):\n",
      " #   Column         Non-Null Count  Dtype  \n",
      "---  ------         --------------  -----  \n",
      " 0   Company_Brand  2879 non-null   object \n",
      " 1   Founded        2110 non-null   float64\n",
      " 2   HeadQuarter    2765 non-null   object \n",
      " 3   Sector         2861 non-null   object \n",
      " 4   What_it_does   2879 non-null   object \n",
      " 5   Founders       2334 non-null   object \n",
      " 6   Investor       2253 non-null   object \n",
      " 7   Amount         2622 non-null   object \n",
      " 8   Stage          1941 non-null   object \n",
      " 9   column10       2 non-null      object \n",
      "dtypes: float64(1), object(9)\n",
      "memory usage: 225.0+ KB\n"
     ]
    }
   ],
   "source": [
    "# Display the structure of the combined DataFrame\n",
    "print(\"\\nStructure of the merged dataset:\")\n",
    "merged_data.info()"
   ]
  },
  {
   "cell_type": "code",
   "execution_count": 82,
   "metadata": {},
   "outputs": [
    {
     "name": "stdout",
     "output_type": "stream",
     "text": [
      "\n",
      "Summary statistics for the 'Amount' column:\n",
      "count     2622\n",
      "unique     774\n",
      "top          —\n",
      "freq       148\n",
      "Name: Amount, dtype: object\n"
     ]
    }
   ],
   "source": [
    "# Display the summary statistics for the 'Amount' column\n",
    "print(\"\\nSummary statistics for the 'Amount' column:\")\n",
    "\n",
    "merged_data['Amount'].describe()\n"
   ]
  },
  {
   "cell_type": "code",
   "execution_count": 84,
   "metadata": {},
   "outputs": [
    {
     "name": "stdout",
     "output_type": "stream",
     "text": [
      "\n",
      "Missing values in each column:\n"
     ]
    },
    {
     "data": {
      "text/plain": [
       "Company_Brand       0\n",
       "Founded           769\n",
       "HeadQuarter       114\n",
       "Sector             18\n",
       "What_it_does        0\n",
       "Founders          545\n",
       "Investor          626\n",
       "Amount            257\n",
       "Stage             938\n",
       "column10         2877\n",
       "dtype: int64"
      ]
     },
     "execution_count": 84,
     "metadata": {},
     "output_type": "execute_result"
    }
   ],
   "source": [
    "\n",
    "# Check for missing values\n",
    "print(\"\\nMissing values in each column:\")\n",
    "\n",
    "merged_data.isnull().sum()"
   ]
  },
  {
   "cell_type": "code",
   "execution_count": 85,
   "metadata": {},
   "outputs": [
    {
     "name": "stdout",
     "output_type": "stream",
     "text": [
      "\n",
      "Number of unique values in each column:\n",
      "Company_Brand    2214\n",
      "Founded            34\n",
      "HeadQuarter       172\n",
      "Sector            873\n",
      "What_it_does     2691\n",
      "Founders         1980\n",
      "Investor         1777\n",
      "Amount            774\n",
      "Stage              75\n",
      "column10            2\n",
      "dtype: int64\n"
     ]
    }
   ],
   "source": [
    "# Display the number of unique values in each column\n",
    "print(\"\\nNumber of unique values in each column:\")\n",
    "\n",
    "print(merged_data.nunique())"
   ]
  },
  {
   "cell_type": "code",
   "execution_count": 86,
   "metadata": {},
   "outputs": [
    {
     "name": "stdout",
     "output_type": "stream",
     "text": [
      "\n",
      "Summary statistics for the 'Amount' column after conversion:\n"
     ]
    },
    {
     "data": {
      "text/plain": [
       "count    9.760000e+02\n",
       "mean     9.496123e+07\n",
       "std      2.243790e+09\n",
       "min      7.500000e+03\n",
       "25%      9.796475e+05\n",
       "50%      2.800000e+06\n",
       "75%      1.000000e+07\n",
       "max      7.000000e+10\n",
       "Name: Amount, dtype: float64"
      ]
     },
     "execution_count": 86,
     "metadata": {},
     "output_type": "execute_result"
    }
   ],
   "source": [
    "# Convert 'Amount' column to numeric dtype, coercing errors to NaN\n",
    "merged_data['Amount'] = pd.to_numeric(merged_data['Amount'], errors='coerce')\n",
    "\n",
    "# Display the summary statistics for the 'Amount' column\n",
    "print(\"\\nSummary statistics for the 'Amount' column after conversion:\")\n",
    "\n",
    "merged_data['Amount'].describe()\n"
   ]
  },
  {
   "cell_type": "markdown",
   "metadata": {},
   "source": [
    "**Key Variables and Metrics of Interest for Analysis**"
   ]
  },
  {
   "cell_type": "markdown",
   "metadata": {},
   "source": [
    "\n",
    "**1. Yearly Funding Trends:**\n",
    "\n",
    "Amount: Total funding amounts received by startups each year.\n",
    "\n",
    "Year: Yearly trend analysis.\n",
    "\n",
    "**2. Sector-Specific Funding Analysis:**\n",
    "\n",
    "Amount: Funding amounts received by startups in different sectors.\n",
    "\n",
    "Sector: Sector classification of startups.\n",
    "\n",
    "Year: Yearly trend analysis.\n",
    "\n",
    "**3. Funding Stages and Evolution:**\n",
    "\n",
    "Stage: Funding stage of startups (e.g., seed, Series A, Series B).\n",
    "\n",
    "Year: Yearly trend analysis.\n",
    "\n",
    "**4. Geographical Distribution of Funding:**\n",
    "\n",
    "Amount: Funding amounts received by startups in different regions.\n",
    "\n",
    "Headquarter Location: Geographical location of startups.\n",
    "\n",
    "Year: Yearly trend analysis.\n",
    "\n",
    "**5. Impact of External Factors:**\n",
    "\n",
    "External factors: Economic conditions, policy changes, technological advancements, consumer behavior shifts.\n",
    "\n",
    "Year: Yearly trend analysis.\n",
    "\n",
    "**6. Investor Behavior and Preferences:**\n",
    "\n",
    "Investor: Identity and characteristics of investors.\n",
    "\n",
    "Amount: Investment amounts by investors.\n",
    "\n",
    "Sector: Preferred sectors of investors.\n",
    "\n",
    "Stage: Preferred funding stages of investors.\n",
    "\n",
    "Year: Yearly trend analysis.\n",
    "\n",
    "**7. Success Metrics and Funding Outcomes:**\n",
    "\n",
    "Success metrics: Revenue growth, market expansion, profitability.\n",
    "\n",
    "Amount: Correlation between funding amounts and success metrics.\n",
    "\n",
    "Year: Yearly trend analysis."
   ]
  },
  {
   "cell_type": "markdown",
   "metadata": {},
   "source": [
    "## Data Preparation and Cleaning"
   ]
  },
  {
   "cell_type": "markdown",
   "metadata": {},
   "source": [
    "**Addressing Missing Values, Removing Duplicates, and Handling Inconsistencies in the Data**"
   ]
  },
  {
   "cell_type": "code",
   "execution_count": 87,
   "metadata": {},
   "outputs": [
    {
     "name": "stdout",
     "output_type": "stream",
     "text": [
      "Missing Values:\n",
      "Company_Brand       0\n",
      "Founded           769\n",
      "HeadQuarter       114\n",
      "Sector             18\n",
      "What_it_does        0\n",
      "Founders          545\n",
      "Investor          626\n",
      "Amount           1903\n",
      "Stage             938\n",
      "column10         2877\n",
      "dtype: int64\n"
     ]
    }
   ],
   "source": [
    "#Step 1: Identify missing values\n",
    "\n",
    "missing_values = merged_data.isnull().sum()\n",
    "print(\"Missing Values:\")\n",
    "print(missing_values)"
   ]
  },
  {
   "cell_type": "code",
   "execution_count": 89,
   "metadata": {},
   "outputs": [],
   "source": [
    "#Step 2: Standardize Formats\n",
    "\n",
    "# To ensure that 'Founded' is treated as numeric, and 'HeadQuarter', 'Sector', 'What_it_does', 'Founders', 'Investor', 'Stage' are strings.\n",
    "\n",
    "merged_data['Founded'] = pd.to_numeric(merged_data['Founded'], errors='coerce')\n",
    "merged_data['HeadQuarter'] = merged_data['HeadQuarter'].astype(str).str.title()  \n",
    "merged_data['Sector'] = merged_data['Sector'].astype(str).str.title()\n",
    "merged_data['What_it_does'] = merged_data['What_it_does'].astype(str).str.title()\n",
    "merged_data['Founders'] = merged_data['Founders'].astype(str).str.title()\n",
    "merged_data['Investor'] = merged_data['Investor'].astype(str).str.title()\n",
    "merged_data['Stage'] = merged_data['Stage'].astype(str).str.title()"
   ]
  },
  {
   "cell_type": "code",
   "execution_count": 90,
   "metadata": {},
   "outputs": [],
   "source": [
    "# Step 3: Handle missing values\n",
    "merged_data['Founded'].fillna(merged_data['Founded'].median(), inplace=True)\n",
    "merged_data['HeadQuarter'].fillna(merged_data['HeadQuarter'].mode()[0], inplace=True)\n",
    "merged_data['Sector'].fillna(merged_data['Sector'].mode()[0], inplace=True)\n",
    "merged_data['Founders'].fillna('Unknown', inplace=True)  \n",
    "merged_data['Investor'].fillna('Unknown', inplace=True)  \n",
    "merged_data['Amount'].fillna(merged_data['Amount'].median(), inplace=True)  \n",
    "merged_data['Stage'].fillna(merged_data['Stage'].mode()[0], inplace=True)\n"
   ]
  },
  {
   "cell_type": "code",
   "execution_count": 91,
   "metadata": {},
   "outputs": [],
   "source": [
    "# Step 4: Remove duplicates\n",
    "merged_data.drop_duplicates(inplace=True)\n"
   ]
  },
  {
   "cell_type": "code",
   "execution_count": 92,
   "metadata": {},
   "outputs": [],
   "source": [
    "# Step 5: Handle inconsistencies\n",
    "merged_data['Company_Brand'] = merged_data['Company_Brand'].str.lower()"
   ]
  },
  {
   "cell_type": "code",
   "execution_count": 93,
   "metadata": {},
   "outputs": [],
   "source": [
    "# Step 6: Remove 'column10' column\n",
    "merged_data.drop(columns=['column10'], inplace=True)"
   ]
  },
  {
   "cell_type": "code",
   "execution_count": 94,
   "metadata": {},
   "outputs": [
    {
     "name": "stdout",
     "output_type": "stream",
     "text": [
      "Cleaned Dataset:\n"
     ]
    },
    {
     "data": {
      "text/html": [
       "<div>\n",
       "<style scoped>\n",
       "    .dataframe tbody tr th:only-of-type {\n",
       "        vertical-align: middle;\n",
       "    }\n",
       "\n",
       "    .dataframe tbody tr th {\n",
       "        vertical-align: top;\n",
       "    }\n",
       "\n",
       "    .dataframe thead th {\n",
       "        text-align: right;\n",
       "    }\n",
       "</style>\n",
       "<table border=\"1\" class=\"dataframe\">\n",
       "  <thead>\n",
       "    <tr style=\"text-align: right;\">\n",
       "      <th></th>\n",
       "      <th>Company_Brand</th>\n",
       "      <th>Founded</th>\n",
       "      <th>HeadQuarter</th>\n",
       "      <th>Sector</th>\n",
       "      <th>What_it_does</th>\n",
       "      <th>Founders</th>\n",
       "      <th>Investor</th>\n",
       "      <th>Amount</th>\n",
       "      <th>Stage</th>\n",
       "    </tr>\n",
       "  </thead>\n",
       "  <tbody>\n",
       "    <tr>\n",
       "      <th>0</th>\n",
       "      <td>aqgromalin</td>\n",
       "      <td>2019</td>\n",
       "      <td>Chennai</td>\n",
       "      <td>Agritech</td>\n",
       "      <td>Cultivating Ideas For Profit</td>\n",
       "      <td>Prasanna Manogaran, Bharani C L</td>\n",
       "      <td>Angel Investors</td>\n",
       "      <td>200000.0</td>\n",
       "      <td>None</td>\n",
       "    </tr>\n",
       "    <tr>\n",
       "      <th>1</th>\n",
       "      <td>krayonnz</td>\n",
       "      <td>2019</td>\n",
       "      <td>Bangalore</td>\n",
       "      <td>Edtech</td>\n",
       "      <td>An Academy-Guardian-Scholar Centric Ecosystem ...</td>\n",
       "      <td>Saurabh Dixit, Gurudutt Upadhyay</td>\n",
       "      <td>Gsf Accelerator</td>\n",
       "      <td>100000.0</td>\n",
       "      <td>Pre-Seed</td>\n",
       "    </tr>\n",
       "    <tr>\n",
       "      <th>2</th>\n",
       "      <td>padcare labs</td>\n",
       "      <td>2018</td>\n",
       "      <td>Pune</td>\n",
       "      <td>Hygiene Management</td>\n",
       "      <td>Converting Bio-Hazardous Waste To Harmless Waste</td>\n",
       "      <td>Ajinkya Dhariya</td>\n",
       "      <td>Venture Center</td>\n",
       "      <td>2800000.0</td>\n",
       "      <td>Pre-Seed</td>\n",
       "    </tr>\n",
       "    <tr>\n",
       "      <th>3</th>\n",
       "      <td>ncome</td>\n",
       "      <td>2020</td>\n",
       "      <td>New Delhi</td>\n",
       "      <td>Escrow</td>\n",
       "      <td>Escrow-As-A-Service Platform</td>\n",
       "      <td>Ritesh Tiwari</td>\n",
       "      <td>Venture Catalysts, Pointone Capital</td>\n",
       "      <td>400000.0</td>\n",
       "      <td>None</td>\n",
       "    </tr>\n",
       "    <tr>\n",
       "      <th>4</th>\n",
       "      <td>gramophone</td>\n",
       "      <td>2016</td>\n",
       "      <td>Indore</td>\n",
       "      <td>Agritech</td>\n",
       "      <td>Gramophone Is An Agtech Platform Enabling Acce...</td>\n",
       "      <td>Ashish Rajan Singh, Harshit Gupta, Nishant Mah...</td>\n",
       "      <td>Siana Capital Management, Info Edge</td>\n",
       "      <td>340000.0</td>\n",
       "      <td>None</td>\n",
       "    </tr>\n",
       "  </tbody>\n",
       "</table>\n",
       "</div>"
      ],
      "text/plain": [
       "  Company_Brand  Founded HeadQuarter              Sector  \\\n",
       "0    aqgromalin     2019     Chennai            Agritech   \n",
       "1      krayonnz     2019   Bangalore              Edtech   \n",
       "2  padcare labs     2018        Pune  Hygiene Management   \n",
       "3         ncome     2020   New Delhi              Escrow   \n",
       "4    gramophone     2016      Indore            Agritech   \n",
       "\n",
       "                                        What_it_does  \\\n",
       "0                       Cultivating Ideas For Profit   \n",
       "1  An Academy-Guardian-Scholar Centric Ecosystem ...   \n",
       "2   Converting Bio-Hazardous Waste To Harmless Waste   \n",
       "3                       Escrow-As-A-Service Platform   \n",
       "4  Gramophone Is An Agtech Platform Enabling Acce...   \n",
       "\n",
       "                                            Founders  \\\n",
       "0                    Prasanna Manogaran, Bharani C L   \n",
       "1                   Saurabh Dixit, Gurudutt Upadhyay   \n",
       "2                                    Ajinkya Dhariya   \n",
       "3                                      Ritesh Tiwari   \n",
       "4  Ashish Rajan Singh, Harshit Gupta, Nishant Mah...   \n",
       "\n",
       "                              Investor     Amount     Stage  \n",
       "0                      Angel Investors   200000.0      None  \n",
       "1                      Gsf Accelerator   100000.0  Pre-Seed  \n",
       "2                       Venture Center  2800000.0  Pre-Seed  \n",
       "3  Venture Catalysts, Pointone Capital   400000.0      None  \n",
       "4  Siana Capital Management, Info Edge   340000.0      None  "
      ]
     },
     "execution_count": 94,
     "metadata": {},
     "output_type": "execute_result"
    }
   ],
   "source": [
    "# Ensure 'Founded' column is integer after filling missing values\n",
    "merged_data['Founded'] = merged_data['Founded'].astype(int)\n",
    "\n",
    "# Display the cleaned dataset\n",
    "print(\"Cleaned Dataset:\")\n",
    "\n",
    "merged_data.head()"
   ]
  },
  {
   "cell_type": "code",
   "execution_count": 95,
   "metadata": {},
   "outputs": [
    {
     "name": "stdout",
     "output_type": "stream",
     "text": [
      "<class 'pandas.core.frame.DataFrame'>\n",
      "Index: 2853 entries, 0 to 2878\n",
      "Data columns (total 9 columns):\n",
      " #   Column         Non-Null Count  Dtype  \n",
      "---  ------         --------------  -----  \n",
      " 0   Company_Brand  2853 non-null   object \n",
      " 1   Founded        2853 non-null   int32  \n",
      " 2   HeadQuarter    2853 non-null   object \n",
      " 3   Sector         2853 non-null   object \n",
      " 4   What_it_does   2853 non-null   object \n",
      " 5   Founders       2853 non-null   object \n",
      " 6   Investor       2853 non-null   object \n",
      " 7   Amount         2853 non-null   float64\n",
      " 8   Stage          2853 non-null   object \n",
      "dtypes: float64(1), int32(1), object(7)\n",
      "memory usage: 211.7+ KB\n"
     ]
    }
   ],
   "source": [
    "merged_data.info ()"
   ]
  },
  {
   "cell_type": "code",
   "execution_count": 97,
   "metadata": {},
   "outputs": [
    {
     "name": "stdout",
     "output_type": "stream",
     "text": [
      "Missing Values:\n",
      "Company_Brand    0\n",
      "Founded          0\n",
      "HeadQuarter      0\n",
      "Sector           0\n",
      "What_it_does     0\n",
      "Founders         0\n",
      "Investor         0\n",
      "Amount           0\n",
      "Stage            0\n",
      "dtype: int64\n"
     ]
    }
   ],
   "source": [
    "# Verify that the cleaned dataset has no missing values\n",
    "\n",
    "missing_values = merged_data.isnull().sum()\n",
    "print(\"Missing Values:\")\n",
    "print(missing_values)"
   ]
  },
  {
   "cell_type": "code",
   "execution_count": 99,
   "metadata": {},
   "outputs": [
    {
     "name": "stdout",
     "output_type": "stream",
     "text": [
      "Number of duplicate rows: 0\n"
     ]
    }
   ],
   "source": [
    "# Checking for duplicates\n",
    "\n",
    "duplicates = merged_data.duplicated().sum()\n",
    "print(f\"Number of duplicate rows: {duplicates}\")\n"
   ]
  },
  {
   "cell_type": "code",
   "execution_count": 100,
   "metadata": {},
   "outputs": [
    {
     "name": "stdout",
     "output_type": "stream",
     "text": [
      "Data types of each column:\n",
      " Company_Brand     object\n",
      "Founded            int32\n",
      "HeadQuarter       object\n",
      "Sector            object\n",
      "What_it_does      object\n",
      "Founders          object\n",
      "Investor          object\n",
      "Amount           float64\n",
      "Stage             object\n",
      "dtype: object\n"
     ]
    }
   ],
   "source": [
    "# Checking Data Types\n",
    "\n",
    "data_types = merged_data.dtypes\n",
    "print(\"Data types of each column:\\n\", data_types)\n"
   ]
  },
  {
   "cell_type": "code",
   "execution_count": 114,
   "metadata": {},
   "outputs": [
    {
     "name": "stdout",
     "output_type": "stream",
     "text": [
      "Summary statistics for the dataset:\n",
      "        Company_Brand      Founded HeadQuarter   Sector                      What_it_does Founders Investor        Amount Stage\n",
      "count           2853  2853.000000        2853     2853                              2853     2853     2853  2.853000e+03  2853\n",
      "unique          2152          NaN         173      837                              2690     1980     1759           NaN    71\n",
      "top         bharatpe          NaN   Bangalore  Fintech  Provides Online Learning Classes      Nan      Nan           NaN  None\n",
      "freq               9          NaN         756      256                                 5      528      525           NaN   881\n",
      "mean             NaN  2016.318612         NaN      NaN                               NaN      NaN      NaN  3.415538e+07   NaN\n",
      "std              NaN     3.757992         NaN      NaN                               NaN      NaN      NaN  1.312627e+09   NaN\n",
      "min              NaN  1963.000000         NaN      NaN                               NaN      NaN      NaN  7.500000e+03   NaN\n",
      "25%              NaN  2015.000000         NaN      NaN                               NaN      NaN      NaN  2.800000e+06   NaN\n",
      "50%              NaN  2017.000000         NaN      NaN                               NaN      NaN      NaN  2.800000e+06   NaN\n",
      "75%              NaN  2018.000000         NaN      NaN                               NaN      NaN      NaN  2.800000e+06   NaN\n",
      "max              NaN  2021.000000         NaN      NaN                               NaN      NaN      NaN  7.000000e+10   NaN\n"
     ]
    }
   ],
   "source": [
    "# Summary Statistics\n",
    "\n",
    "\n",
    "# summary_statistics = merged_data.describe(include='all')\n",
    "# print(\"Summary statistics for the dataset:\")\n",
    "# summary_statistics\n",
    "\n",
    "summary_statistics = merged_data.describe(include='all')\n",
    "print(\"Summary statistics for the dataset:\\n\", summary_statistics)"
   ]
  },
  {
   "cell_type": "markdown",
   "metadata": {},
   "source": [
    "**Exploratory Data Analysis (EDA)**"
   ]
  },
  {
   "cell_type": "markdown",
   "metadata": {},
   "source": [
    "**Import Necessary Libraries**"
   ]
  },
  {
   "cell_type": "code",
   "execution_count": 109,
   "metadata": {},
   "outputs": [],
   "source": [
    "\n",
    "import matplotlib.pyplot as plt\n",
    "import seaborn as sns\n",
    "\n",
    "# Set the visualisation style\n",
    "sns.set(style=\"whitegrid\")\n",
    "\n",
    "# Display settings for larger outputs\n",
    "pd.set_option('display.max_columns', 20)\n",
    "pd.set_option('display.width', 1000)\n"
   ]
  },
  {
   "cell_type": "markdown",
   "metadata": {},
   "source": [
    "**Visualize the Distribution of the \"Founded\" Column**"
   ]
  },
  {
   "cell_type": "code",
   "execution_count": 110,
   "metadata": {},
   "outputs": [
    {
     "data": {
      "image/png": "[encoded data removed]",
      "text/plain": [
       "<Figure size 1000x600 with 1 Axes>"
      ]
     },
     "metadata": {},
     "output_type": "display_data"
    }
   ],
   "source": [
    "plt.figure(figsize=(10, 6))\n",
    "sns.histplot(merged_data['Founded'], bins=30, kde=True)\n",
    "plt.title('Distribution of Founded Years')\n",
    "plt.xlabel('Year Founded')\n",
    "plt.ylabel('Frequency')\n",
    "plt.show()\n"
   ]
  },
  {
   "cell_type": "markdown",
   "metadata": {},
   "source": [
    "**Visualize the Distribution of the \"Amount\" Column**"
   ]
  },
  {
   "cell_type": "code",
   "execution_count": 111,
   "metadata": {},
   "outputs": [
    {
     "data": {
      "image/png": "[encoded data removed]",
      "text/plain": [
       "<Figure size 1000x600 with 1 Axes>"
      ]
     },
     "metadata": {},
     "output_type": "display_data"
    }
   ],
   "source": [
    "plt.figure(figsize=(10, 6))\n",
    "sns.histplot(merged_data['Amount'], bins=30, kde=True)\n",
    "plt.title('Distribution of Investment Amounts')\n",
    "plt.xlabel('Investment Amount')\n",
    "plt.ylabel('Frequency')\n",
    "plt.xscale('log')  # Log scale for better visualization\n",
    "plt.show()\n"
   ]
  },
  {
   "cell_type": "markdown",
   "metadata": {},
   "source": [
    "**Correlation Matrix**"
   ]
  },
  {
   "cell_type": "code",
   "execution_count": 115,
   "metadata": {},
   "outputs": [
    {
     "data": {
      "image/png": "[encoded data removed]",
      "text/plain": [
       "<Figure size 1000x800 with 2 Axes>"
      ]
     },
     "metadata": {},
     "output_type": "display_data"
    }
   ],
   "source": [
    "\n",
    "numeric_data = merged_data.select_dtypes(include='number')\n",
    "correlation_matrix = numeric_data.corr()\n",
    "\n",
    "# Plot correlation matrix\n",
    "plt.figure(figsize=(10, 8))\n",
    "sns.heatmap(correlation_matrix, annot=True, cmap='coolwarm', fmt=\".2f\")\n",
    "plt.title('Correlation Matrix')\n",
    "plt.show()\n"
   ]
  },
  {
   "cell_type": "code",
   "execution_count": 20,
   "metadata": {},
   "outputs": [
    {
     "data": {
      "image/png": "[encoded data removed]",
      "text/plain": [
       "<Figure size 1000x500 with 1 Axes>"
      ]
     },
     "metadata": {},
     "output_type": "display_data"
    }
   ],
   "source": [
    "# Checking for Outliers\n",
    "\n",
    "import matplotlib.pyplot as plt\n",
    "import seaborn as sns\n",
    "\n",
    "numerical_columns = merged_data.select_dtypes(include=['float64', 'int64']).columns\n",
    "for column in numerical_columns:\n",
    "    plt.figure(figsize=(10, 5))\n",
    "    sns.boxplot(x=merged_data[column])\n",
    "    plt.title(f'Box plot of {column}')\n",
    "    plt.show()\n"
   ]
  },
  {
   "cell_type": "code",
   "execution_count": 21,
   "metadata": {},
   "outputs": [],
   "source": [
    "# Ensuring that strings are properly formatted\n",
    "\n",
    "merged_data['Company_Brand'] = merged_data['Company_Brand'].str.strip()\n",
    "merged_data['Sector'] = merged_data['Sector'].str.strip().str.lower()\n",
    "merged_data['HeadQuarter'] = merged_data['HeadQuarter'].str.strip()\n"
   ]
  },
  {
   "cell_type": "code",
   "execution_count": 22,
   "metadata": {},
   "outputs": [
    {
     "name": "stdout",
     "output_type": "stream",
     "text": [
      "Companies founded in the future:\n",
      " Empty DataFrame\n",
      "Columns: [Company_Brand, Founded, HeadQuarter, Sector, What_it_does, Founders, Investor, Amount, Stage]\n",
      "Index: []\n",
      "Entries with negative amounts:\n",
      " Empty DataFrame\n",
      "Columns: [Company_Brand, Founded, HeadQuarter, Sector, What_it_does, Founders, Investor, Amount, Stage]\n",
      "Index: []\n"
     ]
    }
   ],
   "source": [
    "# checking for logical consistency\n",
    "\n",
    "# Check for future dates in 'Founded'\n",
    "future_dates = merged_data[merged_data['Founded'] > 2024]\n",
    "print(\"Companies founded in the future:\\n\", future_dates)\n",
    "\n",
    "# Check for negative values in 'Amount'\n",
    "negative_amounts = merged_data[merged_data['Amount'] < 0]\n",
    "print(\"Entries with negative amounts:\\n\", negative_amounts)\n"
   ]
  },
  {
   "cell_type": "code",
   "execution_count": 23,
   "metadata": {},
   "outputs": [
    {
     "name": "stdout",
     "output_type": "stream",
     "text": [
      "Number of unique values in each column:\n",
      " Company_Brand    2152\n",
      "Founded            34\n",
      "HeadQuarter       172\n",
      "Sector            835\n",
      "What_it_does     2691\n",
      "Founders         1981\n",
      "Investor         1778\n",
      "Amount            321\n",
      "Stage              75\n",
      "dtype: int64\n"
     ]
    }
   ],
   "source": [
    "# Check for Unique Value\n",
    "\n",
    "unique_values = merged_data.nunique()\n",
    "print(\"Number of unique values in each column:\\n\", unique_values)\n"
   ]
  },
  {
   "cell_type": "markdown",
   "metadata": {},
   "source": [
    "**Proxies Creation**\n",
    "\n",
    "Since the 'Amount' and 'Founded' columns are the numeric colummns, we can create proxies to derive some insights and potential metrics based on the available information."
   ]
  },
  {
   "cell_type": "code",
   "execution_count": 24,
   "metadata": {},
   "outputs": [
    {
     "name": "stdout",
     "output_type": "stream",
     "text": [
      "   Year_Founded  Revenue_Growth_Proxy\n",
      "0          1963              0.000040\n",
      "1          1973              0.031428\n",
      "2          1978              0.000127\n",
      "3          1982              0.000300\n",
      "4          1984              0.000040\n"
     ]
    }
   ],
   "source": [
    "# Success Metrics Proxy\n",
    "\n",
    "# Calculate the minimum and maximum values of the 'Amount' column\n",
    "min_amount = merged_data['Amount'].min()\n",
    "max_amount = merged_data['Amount'].max()\n",
    "\n",
    "# Normalize the 'Amount' column using Min-Max scaling\n",
    "merged_data['Amount_Normalized'] = (merged_data['Amount'] - min_amount) / (max_amount - min_amount)\n",
    "\n",
    "# Calculate a simple success score based on funding amount and year founded\n",
    "merged_data['Success_Score'] = merged_data['Amount_Normalized'] * (2021 - merged_data['Founded'])\n",
    "\n",
    "\n",
    "# Revenue Growth Proxy\n",
    "\n",
    "# Group by 'Founded' year and calculate the average normalized funding amount\n",
    "revenue_growth_proxy = merged_data.groupby('Founded')['Amount_Normalized'].mean()\n",
    "\n",
    "# Reset index to convert the result back to a DataFrame\n",
    "revenue_growth_proxy = revenue_growth_proxy.reset_index()\n",
    "\n",
    "# Rename columns for clarity\n",
    "revenue_growth_proxy.columns = ['Year_Founded', 'Revenue_Growth_Proxy']\n",
    "\n",
    "# Display the resulting DataFrame\n",
    "print(revenue_growth_proxy.head())\n",
    "\n",
    "\n",
    "# Market Expansion Proxy\n",
    "\n",
    "\n",
    "# Categorize startups into cohorts based on their founding years\n",
    "bins = [1960, 1990, 2000, 2010, 2020, 2030]  # Define bins for founding years\n",
    "labels = ['1960s-1980s', '1990s', '2000s', '2010s', '2020s']  # Labels for each cohort\n",
    "merged_data['Founded_Cohort'] = pd.cut(merged_data['Founded'], bins=bins, labels=labels, right=False)\n",
    "\n",
    "# Analyze funding trends within each cohort\n",
    "funding_trends_by_cohort = merged_data.groupby('Founded_Cohort')['Amount'].sum()\n",
    "\n",
    "\n"
   ]
  },
  {
   "cell_type": "code",
   "execution_count": 25,
   "metadata": {},
   "outputs": [
    {
     "name": "stdout",
     "output_type": "stream",
     "text": [
      "\n",
      "Number of unique values in each column:\n",
      "Company_Brand         11\n",
      "Founded               19\n",
      "HeadQuarter           45\n",
      "Sector               146\n",
      "What_it_does         305\n",
      "Founders             272\n",
      "Investor             273\n",
      "Amount               321\n",
      "Stage                 31\n",
      "Amount_Normalized    321\n",
      "Success_Score        321\n",
      "Founded_Cohort         5\n",
      "Sector_Encoded        12\n",
      "Amount_Category        5\n",
      "dtype: int64\n"
     ]
    }
   ],
   "source": [
    "#Further cleaning of datasets\n",
    "\n",
    "import pandas as pd\n",
    "\n",
    "def clean_data(df):\n",
    "    # Standardize text columns\n",
    "    df['Company_Brand'] = df['Company_Brand'].str.lower().str.strip()\n",
    "    df['What_it_does'] = df['What_it_does'].str.lower().str.strip()\n",
    "    df['Founders'] = df['Founders'].str.lower().str.strip()\n",
    "    df['Investor'] = df['Investor'].str.lower().str.strip()\n",
    "    df['Sector'] = df['Sector'].str.lower().str.strip()\n",
    "    df['HeadQuarter'] = df['HeadQuarter'].str.lower().str.strip()\n",
    "    \n",
    "    # Ensure numerical columns are properly formatted\n",
    "    df['Amount_Normalized'] = pd.to_numeric(df['Amount_Normalized'], errors='coerce')\n",
    "    \n",
    "    # Filter out founding years outside the range 1963 to 2021\n",
    "    df = df[(df['Founded'] >= 1963) & (df['Founded'] <= 2021)]\n",
    "    \n",
    "    # Ensure Amount columns are non-negative\n",
    "    df = df[df['Amount'] >= 0]\n",
    "    df = df[df['Amount_Normalized'] >= 0]\n",
    "    \n",
    "    # Drop null values from the 'Amount' column\n",
    "    df = df.dropna(subset=['Amount'])\n",
    "    \n",
    "    # Drop duplicate values from the 'Amount' column\n",
    "    df = df.drop_duplicates(subset=['Amount'])\n",
    "    \n",
    "    # Group less frequent categories into 'Other'\n",
    "    top_brands = df['Company_Brand'].value_counts().nlargest(10).index\n",
    "    df['Company_Brand'] = df['Company_Brand'].apply(lambda x: x if x in top_brands else 'Other')\n",
    "    \n",
    "    # Encode Sector based on frequency\n",
    "    sector_counts = df['Sector'].value_counts(normalize=True)\n",
    "    df['Sector_Encoded'] = df['Sector'].map(sector_counts)\n",
    "    \n",
    "    # Binning Amount into categories based on quantiles\n",
    "    df['Amount_Category'] = pd.qcut(df['Amount'], q=5, labels=['Very Low', 'Low', 'Medium', 'High', 'Very High'], duplicates='drop')\n",
    "    \n",
    "    # Group founding years into decades for Founded_Cohort\n",
    "    df['Founded_Cohort'] = pd.cut(df['Founded'], bins=[1963, 1970, 1980, 1990, 2000, 2010, 2021], labels=['1960s', '1970s', '1980s', '1990s', '2000s', '2010s'])\n",
    "    \n",
    "    return df\n",
    "\n",
    "# Clean the merged data\n",
    "cleaned_data = clean_data(merged_data)\n",
    "\n",
    "print(\"\\nNumber of unique values in each column:\")\n",
    "print(cleaned_data.nunique())\n"
   ]
  },
  {
   "cell_type": "code",
   "execution_count": 26,
   "metadata": {},
   "outputs": [
    {
     "data": {
      "text/plain": [
       "count    3.210000e+02\n",
       "mean     2.653109e+08\n",
       "std      3.910780e+09\n",
       "min      7.500000e+03\n",
       "25%      7.000000e+05\n",
       "50%      3.964000e+06\n",
       "75%      1.837000e+07\n",
       "max      7.000000e+10\n",
       "Name: Amount, dtype: float64"
      ]
     },
     "execution_count": 26,
     "metadata": {},
     "output_type": "execute_result"
    }
   ],
   "source": [
    "cleaned_data['Amount'].describe()"
   ]
  },
  {
   "cell_type": "code",
   "execution_count": 27,
   "metadata": {},
   "outputs": [],
   "source": [
    "def define_amount_category(amount):\n",
    "    if amount < 1000000:\n",
    "        return 'Very Low'\n",
    "    elif 1000000 <= amount < 10000000:\n",
    "        return 'Low'\n",
    "    elif 10000000 <= amount < 100000000:\n",
    "        return 'Medium'\n",
    "    elif 100000000 <= amount < 1000000000:\n",
    "        return 'High'\n",
    "    else:\n",
    "        return 'Very High'\n",
    "\n",
    "cleaned_data['Amount_Category'] = cleaned_data['Amount'].apply(define_amount_category)\n"
   ]
  },
  {
   "cell_type": "code",
   "execution_count": 28,
   "metadata": {},
   "outputs": [
    {
     "name": "stdout",
     "output_type": "stream",
     "text": [
      "['Very Low' 'Low' 'Medium' 'High' 'Very High']\n"
     ]
    }
   ],
   "source": [
    "print(cleaned_data['Amount_Category'].unique())\n"
   ]
  },
  {
   "cell_type": "code",
   "execution_count": 29,
   "metadata": {},
   "outputs": [
    {
     "data": {
      "text/html": [
       "<div>\n",
       "<style scoped>\n",
       "    .dataframe tbody tr th:only-of-type {\n",
       "        vertical-align: middle;\n",
       "    }\n",
       "\n",
       "    .dataframe tbody tr th {\n",
       "        vertical-align: top;\n",
       "    }\n",
       "\n",
       "    .dataframe thead th {\n",
       "        text-align: right;\n",
       "    }\n",
       "</style>\n",
       "<table border=\"1\" class=\"dataframe\">\n",
       "  <thead>\n",
       "    <tr style=\"text-align: right;\">\n",
       "      <th></th>\n",
       "      <th>Company_Brand</th>\n",
       "      <th>Founded</th>\n",
       "      <th>HeadQuarter</th>\n",
       "      <th>Sector</th>\n",
       "      <th>What_it_does</th>\n",
       "      <th>Founders</th>\n",
       "      <th>Investor</th>\n",
       "      <th>Amount</th>\n",
       "      <th>Stage</th>\n",
       "      <th>Amount_Normalized</th>\n",
       "      <th>Success_Score</th>\n",
       "      <th>Founded_Cohort</th>\n",
       "      <th>Sector_Encoded</th>\n",
       "      <th>Amount_Category</th>\n",
       "    </tr>\n",
       "  </thead>\n",
       "  <tbody>\n",
       "    <tr>\n",
       "      <th>0</th>\n",
       "      <td>Other</td>\n",
       "      <td>2019</td>\n",
       "      <td>chennai</td>\n",
       "      <td>agritech</td>\n",
       "      <td>cultivating ideas for profit</td>\n",
       "      <td>prasanna manogaran, bharani c l</td>\n",
       "      <td>angel investors</td>\n",
       "      <td>200000.0</td>\n",
       "      <td>Seed</td>\n",
       "      <td>0.000003</td>\n",
       "      <td>0.000006</td>\n",
       "      <td>2010s</td>\n",
       "      <td>0.037383</td>\n",
       "      <td>Very Low</td>\n",
       "    </tr>\n",
       "    <tr>\n",
       "      <th>1</th>\n",
       "      <td>Other</td>\n",
       "      <td>2019</td>\n",
       "      <td>bangalore</td>\n",
       "      <td>edtech</td>\n",
       "      <td>an academy-guardian-scholar centric ecosystem ...</td>\n",
       "      <td>saurabh dixit, gurudutt upadhyay</td>\n",
       "      <td>gsf accelerator</td>\n",
       "      <td>100000.0</td>\n",
       "      <td>Pre-seed</td>\n",
       "      <td>0.000001</td>\n",
       "      <td>0.000003</td>\n",
       "      <td>2010s</td>\n",
       "      <td>0.074766</td>\n",
       "      <td>Very Low</td>\n",
       "    </tr>\n",
       "    <tr>\n",
       "      <th>2</th>\n",
       "      <td>Other</td>\n",
       "      <td>2018</td>\n",
       "      <td>pune</td>\n",
       "      <td>hygiene management</td>\n",
       "      <td>converting bio-hazardous waste to harmless waste</td>\n",
       "      <td>ajinkya dhariya</td>\n",
       "      <td>venture center</td>\n",
       "      <td>2800000.0</td>\n",
       "      <td>Pre-seed</td>\n",
       "      <td>0.000040</td>\n",
       "      <td>0.000120</td>\n",
       "      <td>2010s</td>\n",
       "      <td>0.003115</td>\n",
       "      <td>Low</td>\n",
       "    </tr>\n",
       "    <tr>\n",
       "      <th>3</th>\n",
       "      <td>Other</td>\n",
       "      <td>2020</td>\n",
       "      <td>new delhi</td>\n",
       "      <td>escrow</td>\n",
       "      <td>escrow-as-a-service platform</td>\n",
       "      <td>ritesh tiwari</td>\n",
       "      <td>venture catalysts, pointone capital</td>\n",
       "      <td>400000.0</td>\n",
       "      <td>Seed</td>\n",
       "      <td>0.000006</td>\n",
       "      <td>0.000006</td>\n",
       "      <td>2010s</td>\n",
       "      <td>0.003115</td>\n",
       "      <td>Very Low</td>\n",
       "    </tr>\n",
       "    <tr>\n",
       "      <th>4</th>\n",
       "      <td>Other</td>\n",
       "      <td>2016</td>\n",
       "      <td>indore</td>\n",
       "      <td>agritech</td>\n",
       "      <td>gramophone is an agtech platform enabling acce...</td>\n",
       "      <td>ashish rajan singh, harshit gupta, nishant mah...</td>\n",
       "      <td>siana capital management, info edge</td>\n",
       "      <td>340000.0</td>\n",
       "      <td>Seed</td>\n",
       "      <td>0.000005</td>\n",
       "      <td>0.000024</td>\n",
       "      <td>2010s</td>\n",
       "      <td>0.037383</td>\n",
       "      <td>Very Low</td>\n",
       "    </tr>\n",
       "  </tbody>\n",
       "</table>\n",
       "</div>"
      ],
      "text/plain": [
       "  Company_Brand  Founded HeadQuarter              Sector  \\\n",
       "0         Other     2019     chennai            agritech   \n",
       "1         Other     2019   bangalore              edtech   \n",
       "2         Other     2018        pune  hygiene management   \n",
       "3         Other     2020   new delhi              escrow   \n",
       "4         Other     2016      indore            agritech   \n",
       "\n",
       "                                        What_it_does  \\\n",
       "0                       cultivating ideas for profit   \n",
       "1  an academy-guardian-scholar centric ecosystem ...   \n",
       "2   converting bio-hazardous waste to harmless waste   \n",
       "3                       escrow-as-a-service platform   \n",
       "4  gramophone is an agtech platform enabling acce...   \n",
       "\n",
       "                                            Founders  \\\n",
       "0                    prasanna manogaran, bharani c l   \n",
       "1                   saurabh dixit, gurudutt upadhyay   \n",
       "2                                    ajinkya dhariya   \n",
       "3                                      ritesh tiwari   \n",
       "4  ashish rajan singh, harshit gupta, nishant mah...   \n",
       "\n",
       "                              Investor     Amount     Stage  \\\n",
       "0                      angel investors   200000.0      Seed   \n",
       "1                      gsf accelerator   100000.0  Pre-seed   \n",
       "2                       venture center  2800000.0  Pre-seed   \n",
       "3  venture catalysts, pointone capital   400000.0      Seed   \n",
       "4  siana capital management, info edge   340000.0      Seed   \n",
       "\n",
       "   Amount_Normalized  Success_Score Founded_Cohort  Sector_Encoded  \\\n",
       "0           0.000003       0.000006          2010s        0.037383   \n",
       "1           0.000001       0.000003          2010s        0.074766   \n",
       "2           0.000040       0.000120          2010s        0.003115   \n",
       "3           0.000006       0.000006          2010s        0.003115   \n",
       "4           0.000005       0.000024          2010s        0.037383   \n",
       "\n",
       "  Amount_Category  \n",
       "0        Very Low  \n",
       "1        Very Low  \n",
       "2             Low  \n",
       "3        Very Low  \n",
       "4        Very Low  "
      ]
     },
     "execution_count": 29,
     "metadata": {},
     "output_type": "execute_result"
    }
   ],
   "source": [
    "cleaned_data.head()"
   ]
  },
  {
   "cell_type": "code",
   "execution_count": 30,
   "metadata": {},
   "outputs": [
    {
     "name": "stdout",
     "output_type": "stream",
     "text": [
      "\n",
      "Number of unique values in each column:\n",
      "Company_Brand         11\n",
      "Founded               19\n",
      "HeadQuarter           45\n",
      "Sector               146\n",
      "What_it_does         305\n",
      "Founders             272\n",
      "Investor             273\n",
      "Amount               321\n",
      "Stage                 31\n",
      "Amount_Normalized    321\n",
      "Success_Score        321\n",
      "Founded_Cohort         5\n",
      "Sector_Encoded        12\n",
      "Amount_Category        5\n",
      "dtype: int64\n"
     ]
    }
   ],
   "source": [
    "print(\"\\nNumber of unique values in each column:\")\n",
    "print(cleaned_data.nunique())\n"
   ]
  },
  {
   "cell_type": "code",
   "execution_count": 31,
   "metadata": {},
   "outputs": [
    {
     "data": {
      "text/plain": [
       "<bound method DataFrame.info of      Company_Brand  Founded                  HeadQuarter  \\\n",
       "0            Other     2019                      chennai   \n",
       "1            Other     2019                    bangalore   \n",
       "2            Other     2018                         pune   \n",
       "3            Other     2020                    new delhi   \n",
       "4            Other     2016                       indore   \n",
       "...            ...      ...                          ...   \n",
       "2748         Other     2017  bangalore, karnataka, india   \n",
       "2754         Other     2017  bangalore, karnataka, india   \n",
       "2758         Other     2017   mumbai, maharashtra, india   \n",
       "2784         Other     2017  bengaluru, karnataka, india   \n",
       "2787         Other     2017   mumbai, maharashtra, india   \n",
       "\n",
       "                                               Sector  \\\n",
       "0                                            agritech   \n",
       "1                                              edtech   \n",
       "2                                  hygiene management   \n",
       "3                                              escrow   \n",
       "4                                            agritech   \n",
       "...                                               ...   \n",
       "2748           e-commerce, furniture, interior design   \n",
       "2754  artificial intelligence, machine learning, paas   \n",
       "2758                        energy, natural resources   \n",
       "2784    fintech, internet, payments, service industry   \n",
       "2787       food and beverage, food delivery, internet   \n",
       "\n",
       "                                           What_it_does  \\\n",
       "0                          cultivating ideas for profit   \n",
       "1     an academy-guardian-scholar centric ecosystem ...   \n",
       "2      converting bio-hazardous waste to harmless waste   \n",
       "3                          escrow-as-a-service platform   \n",
       "4     gramophone is an agtech platform enabling acce...   \n",
       "...                                                 ...   \n",
       "2748  livspace is the new online shopping destinatio...   \n",
       "2754  mate labs is a machine learning solutions plat...   \n",
       "2758  clp india pvt. ltd. is a foreign investor in t...   \n",
       "2784  slicepay is an ai based instant credit app for...   \n",
       "2787  mombay is a unique opportunity for housewives ...   \n",
       "\n",
       "                                               Founders  \\\n",
       "0                       prasanna manogaran, bharani c l   \n",
       "1                      saurabh dixit, gurudutt upadhyay   \n",
       "2                                       ajinkya dhariya   \n",
       "3                                         ritesh tiwari   \n",
       "4     ashish rajan singh, harshit gupta, nishant mah...   \n",
       "...                                                 ...   \n",
       "2748                                            unknown   \n",
       "2754                                            unknown   \n",
       "2758                                            unknown   \n",
       "2784                                            unknown   \n",
       "2787                                            unknown   \n",
       "\n",
       "                                 Investor       Amount           Stage  \\\n",
       "0                         angel investors     200000.0            Seed   \n",
       "1                         gsf accelerator     100000.0        Pre-seed   \n",
       "2                          venture center    2800000.0        Pre-seed   \n",
       "3     venture catalysts, pointone capital     400000.0            Seed   \n",
       "4     siana capital management, info edge     340000.0            Seed   \n",
       "...                                   ...          ...             ...   \n",
       "2748                              unknown   70000000.0        Series C   \n",
       "2754                              unknown     550000.0            Seed   \n",
       "2758                              unknown  365000000.0  Private Equity   \n",
       "2784                              unknown   14900000.0        Series A   \n",
       "2787                              unknown       7500.0            Seed   \n",
       "\n",
       "      Amount_Normalized  Success_Score Founded_Cohort  Sector_Encoded  \\\n",
       "0              0.000003       0.000006          2010s        0.037383   \n",
       "1              0.000001       0.000003          2010s        0.074766   \n",
       "2              0.000040       0.000120          2010s        0.003115   \n",
       "3              0.000006       0.000006          2010s        0.003115   \n",
       "4              0.000005       0.000024          2010s        0.037383   \n",
       "...                 ...            ...            ...             ...   \n",
       "2748           0.001000       0.004000          2010s        0.003115   \n",
       "2754           0.000008       0.000031          2010s        0.003115   \n",
       "2758           0.005214       0.020857          2010s        0.003115   \n",
       "2784           0.000213       0.000851          2010s        0.003115   \n",
       "2787           0.000000       0.000000          2010s        0.003115   \n",
       "\n",
       "     Amount_Category  \n",
       "0           Very Low  \n",
       "1           Very Low  \n",
       "2                Low  \n",
       "3           Very Low  \n",
       "4           Very Low  \n",
       "...              ...  \n",
       "2748          Medium  \n",
       "2754        Very Low  \n",
       "2758            High  \n",
       "2784          Medium  \n",
       "2787        Very Low  \n",
       "\n",
       "[321 rows x 14 columns]>"
      ]
     },
     "execution_count": 31,
     "metadata": {},
     "output_type": "execute_result"
    }
   ],
   "source": [
    "cleaned_data.info"
   ]
  },
  {
   "cell_type": "markdown",
   "metadata": {},
   "source": [
    "**Exploratory Data Analysis (EDA)**"
   ]
  },
  {
   "cell_type": "code",
   "execution_count": 32,
   "metadata": {},
   "outputs": [
    {
     "name": "stdout",
     "output_type": "stream",
     "text": [
      "           Founded        Amount\n",
      "count  2852.000000  2.852000e+03\n",
      "mean   2016.317321  3.416638e+07\n",
      "std       3.758018  1.312857e+09\n",
      "min    1963.000000  7.500000e+03\n",
      "25%    2015.000000  2.800000e+06\n",
      "50%    2017.000000  2.800000e+06\n",
      "75%    2018.000000  2.800000e+06\n",
      "max    2021.000000  7.000000e+10\n"
     ]
    }
   ],
   "source": [
    "# summary Statistics\n",
    "\n",
    "print(merged_data[['Founded', 'Amount']].describe())\n"
   ]
  },
  {
   "cell_type": "code",
   "execution_count": 33,
   "metadata": {},
   "outputs": [
    {
     "data": {
      "image/png": "[encoded data removed]",
      "text/plain": [
       "<Figure size 1000x600 with 1 Axes>"
      ]
     },
     "metadata": {},
     "output_type": "display_data"
    }
   ],
   "source": [
    "import pandas as pd\n",
    "import matplotlib.pyplot as plt\n",
    "\n",
    "\n",
    "# Group by Founded year and calculate the average funding amount for each year\n",
    "average_amount_per_year = merged_data.groupby('Founded')['Amount'].mean()\n",
    "\n",
    "# Create a line plot\n",
    "plt.figure(figsize=(10, 6))\n",
    "average_amount_per_year.plot(kind='line', marker='o', color='b')\n",
    "plt.title('Average Funding Amount by Founded Year')\n",
    "plt.xlabel('Founded Year')\n",
    "plt.ylabel('Average Funding Amount')\n",
    "plt.grid(True)\n",
    "plt.show()\n"
   ]
  },
  {
   "cell_type": "code",
   "execution_count": 34,
   "metadata": {},
   "outputs": [
    {
     "data": {
      "text/html": [
       "<div>\n",
       "<style scoped>\n",
       "    .dataframe tbody tr th:only-of-type {\n",
       "        vertical-align: middle;\n",
       "    }\n",
       "\n",
       "    .dataframe tbody tr th {\n",
       "        vertical-align: top;\n",
       "    }\n",
       "\n",
       "    .dataframe thead th {\n",
       "        text-align: right;\n",
       "    }\n",
       "</style>\n",
       "<table border=\"1\" class=\"dataframe\">\n",
       "  <thead>\n",
       "    <tr style=\"text-align: right;\">\n",
       "      <th></th>\n",
       "      <th>Year_Founded</th>\n",
       "      <th>Revenue_Growth_Proxy</th>\n",
       "    </tr>\n",
       "  </thead>\n",
       "  <tbody>\n",
       "    <tr>\n",
       "      <th>0</th>\n",
       "      <td>1963</td>\n",
       "      <td>0.000040</td>\n",
       "    </tr>\n",
       "    <tr>\n",
       "      <th>1</th>\n",
       "      <td>1973</td>\n",
       "      <td>0.031428</td>\n",
       "    </tr>\n",
       "    <tr>\n",
       "      <th>2</th>\n",
       "      <td>1978</td>\n",
       "      <td>0.000127</td>\n",
       "    </tr>\n",
       "    <tr>\n",
       "      <th>3</th>\n",
       "      <td>1982</td>\n",
       "      <td>0.000300</td>\n",
       "    </tr>\n",
       "    <tr>\n",
       "      <th>4</th>\n",
       "      <td>1984</td>\n",
       "      <td>0.000040</td>\n",
       "    </tr>\n",
       "  </tbody>\n",
       "</table>\n",
       "</div>"
      ],
      "text/plain": [
       "   Year_Founded  Revenue_Growth_Proxy\n",
       "0          1963              0.000040\n",
       "1          1973              0.031428\n",
       "2          1978              0.000127\n",
       "3          1982              0.000300\n",
       "4          1984              0.000040"
      ]
     },
     "execution_count": 34,
     "metadata": {},
     "output_type": "execute_result"
    }
   ],
   "source": [
    "revenue_growth_proxy.head()"
   ]
  },
  {
   "cell_type": "code",
   "execution_count": 35,
   "metadata": {},
   "outputs": [
    {
     "data": {
      "text/html": [
       "<div>\n",
       "<style scoped>\n",
       "    .dataframe tbody tr th:only-of-type {\n",
       "        vertical-align: middle;\n",
       "    }\n",
       "\n",
       "    .dataframe tbody tr th {\n",
       "        vertical-align: top;\n",
       "    }\n",
       "\n",
       "    .dataframe thead th {\n",
       "        text-align: right;\n",
       "    }\n",
       "</style>\n",
       "<table border=\"1\" class=\"dataframe\">\n",
       "  <thead>\n",
       "    <tr style=\"text-align: right;\">\n",
       "      <th></th>\n",
       "      <th>Company_Brand</th>\n",
       "      <th>Founded</th>\n",
       "      <th>HeadQuarter</th>\n",
       "      <th>Sector</th>\n",
       "      <th>What_it_does</th>\n",
       "      <th>Founders</th>\n",
       "      <th>Investor</th>\n",
       "      <th>Amount</th>\n",
       "      <th>Stage</th>\n",
       "      <th>Amount_Normalized</th>\n",
       "      <th>Success_Score</th>\n",
       "      <th>Founded_Cohort</th>\n",
       "    </tr>\n",
       "  </thead>\n",
       "  <tbody>\n",
       "    <tr>\n",
       "      <th>0</th>\n",
       "      <td>aqgromalin</td>\n",
       "      <td>2019</td>\n",
       "      <td>chennai</td>\n",
       "      <td>agritech</td>\n",
       "      <td>cultivating ideas for profit</td>\n",
       "      <td>prasanna manogaran, bharani c l</td>\n",
       "      <td>angel investors</td>\n",
       "      <td>200000.0</td>\n",
       "      <td>Seed</td>\n",
       "      <td>0.000003</td>\n",
       "      <td>0.000006</td>\n",
       "      <td>2010s</td>\n",
       "    </tr>\n",
       "    <tr>\n",
       "      <th>1</th>\n",
       "      <td>krayonnz</td>\n",
       "      <td>2019</td>\n",
       "      <td>bangalore</td>\n",
       "      <td>edtech</td>\n",
       "      <td>an academy-guardian-scholar centric ecosystem ...</td>\n",
       "      <td>saurabh dixit, gurudutt upadhyay</td>\n",
       "      <td>gsf accelerator</td>\n",
       "      <td>100000.0</td>\n",
       "      <td>Pre-seed</td>\n",
       "      <td>0.000001</td>\n",
       "      <td>0.000003</td>\n",
       "      <td>2010s</td>\n",
       "    </tr>\n",
       "    <tr>\n",
       "      <th>2</th>\n",
       "      <td>padcare labs</td>\n",
       "      <td>2018</td>\n",
       "      <td>pune</td>\n",
       "      <td>hygiene management</td>\n",
       "      <td>converting bio-hazardous waste to harmless waste</td>\n",
       "      <td>ajinkya dhariya</td>\n",
       "      <td>venture center</td>\n",
       "      <td>2800000.0</td>\n",
       "      <td>Pre-seed</td>\n",
       "      <td>0.000040</td>\n",
       "      <td>0.000120</td>\n",
       "      <td>2010s</td>\n",
       "    </tr>\n",
       "    <tr>\n",
       "      <th>3</th>\n",
       "      <td>ncome</td>\n",
       "      <td>2020</td>\n",
       "      <td>new delhi</td>\n",
       "      <td>escrow</td>\n",
       "      <td>escrow-as-a-service platform</td>\n",
       "      <td>ritesh tiwari</td>\n",
       "      <td>venture catalysts, pointone capital</td>\n",
       "      <td>400000.0</td>\n",
       "      <td>Seed</td>\n",
       "      <td>0.000006</td>\n",
       "      <td>0.000006</td>\n",
       "      <td>2020s</td>\n",
       "    </tr>\n",
       "    <tr>\n",
       "      <th>4</th>\n",
       "      <td>gramophone</td>\n",
       "      <td>2016</td>\n",
       "      <td>indore</td>\n",
       "      <td>agritech</td>\n",
       "      <td>gramophone is an agtech platform enabling acce...</td>\n",
       "      <td>ashish rajan singh, harshit gupta, nishant mah...</td>\n",
       "      <td>siana capital management, info edge</td>\n",
       "      <td>340000.0</td>\n",
       "      <td>Seed</td>\n",
       "      <td>0.000005</td>\n",
       "      <td>0.000024</td>\n",
       "      <td>2010s</td>\n",
       "    </tr>\n",
       "  </tbody>\n",
       "</table>\n",
       "</div>"
      ],
      "text/plain": [
       "  Company_Brand  Founded HeadQuarter              Sector  \\\n",
       "0    aqgromalin     2019     chennai            agritech   \n",
       "1      krayonnz     2019   bangalore              edtech   \n",
       "2  padcare labs     2018        pune  hygiene management   \n",
       "3         ncome     2020   new delhi              escrow   \n",
       "4    gramophone     2016      indore            agritech   \n",
       "\n",
       "                                        What_it_does  \\\n",
       "0                       cultivating ideas for profit   \n",
       "1  an academy-guardian-scholar centric ecosystem ...   \n",
       "2   converting bio-hazardous waste to harmless waste   \n",
       "3                       escrow-as-a-service platform   \n",
       "4  gramophone is an agtech platform enabling acce...   \n",
       "\n",
       "                                            Founders  \\\n",
       "0                    prasanna manogaran, bharani c l   \n",
       "1                   saurabh dixit, gurudutt upadhyay   \n",
       "2                                    ajinkya dhariya   \n",
       "3                                      ritesh tiwari   \n",
       "4  ashish rajan singh, harshit gupta, nishant mah...   \n",
       "\n",
       "                              Investor     Amount     Stage  \\\n",
       "0                      angel investors   200000.0      Seed   \n",
       "1                      gsf accelerator   100000.0  Pre-seed   \n",
       "2                       venture center  2800000.0  Pre-seed   \n",
       "3  venture catalysts, pointone capital   400000.0      Seed   \n",
       "4  siana capital management, info edge   340000.0      Seed   \n",
       "\n",
       "   Amount_Normalized  Success_Score Founded_Cohort  \n",
       "0           0.000003       0.000006          2010s  \n",
       "1           0.000001       0.000003          2010s  \n",
       "2           0.000040       0.000120          2010s  \n",
       "3           0.000006       0.000006          2020s  \n",
       "4           0.000005       0.000024          2010s  "
      ]
     },
     "execution_count": 35,
     "metadata": {},
     "output_type": "execute_result"
    }
   ],
   "source": [
    "merged_data.head()"
   ]
  },
  {
   "cell_type": "code",
   "execution_count": 36,
   "metadata": {},
   "outputs": [
    {
     "data": {
      "image/png": "[encoded data removed]",
      "text/plain": [
       "<Figure size 1200x600 with 1 Axes>"
      ]
     },
     "metadata": {},
     "output_type": "display_data"
    }
   ],
   "source": [
    "import matplotlib.pyplot as plt\n",
    "import seaborn as sns\n",
    "\n",
    "# Line plot for funding trends across cohorts (founding years)\n",
    "plt.figure(figsize=(12, 6))\n",
    "sns.lineplot(data=revenue_growth_proxy, x='Year_Founded', y='Revenue_Growth_Proxy')\n",
    "plt.title('Average Normalized Funding Amount by Year Founded')\n",
    "plt.xlabel('Year Founded')\n",
    "plt.ylabel('Average Normalized Funding Amount')\n",
    "plt.xticks(rotation=45)\n",
    "plt.grid(True)\n",
    "plt.tight_layout()\n",
    "plt.show()\n",
    "\n"
   ]
  },
  {
   "cell_type": "code",
   "execution_count": 37,
   "metadata": {},
   "outputs": [
    {
     "data": {
      "image/png": "[encoded data removed]",
      "text/plain": [
       "<Figure size 1000x600 with 1 Axes>"
      ]
     },
     "metadata": {},
     "output_type": "display_data"
    },
    {
     "data": {
      "image/png": "[encoded data removed]",
      "text/plain": [
       "<Figure size 1000x800 with 2 Axes>"
      ]
     },
     "metadata": {},
     "output_type": "display_data"
    }
   ],
   "source": [
    "import matplotlib.pyplot as plt\n",
    "import seaborn as sns\n",
    "\n",
    "\n",
    "# Distribution of Amount\n",
    "plt.figure(figsize=(10, 6))\n",
    "sns.histplot(cleaned_data['Amount'], bins=30, kde=True)\n",
    "plt.title('Distribution of Amount')\n",
    "plt.xlabel('Amount')\n",
    "plt.ylabel('Frequency')\n",
    "plt.show()\n",
    "\n",
    "# Correlation Analysis\n",
    "numeric_data = cleaned_data.select_dtypes(include='number')\n",
    "correlation_matrix = numeric_data.corr()\n",
    "\n",
    "# Plot correlation matrix\n",
    "plt.figure(figsize=(10, 8))\n",
    "sns.heatmap(correlation_matrix, annot=True, cmap='coolwarm', fmt=\".2f\")\n",
    "plt.title('Correlation Matrix')\n",
    "plt.show()\n"
   ]
  }
 ],
 "metadata": {
  "kernelspec": {
   "display_name": "Python 3",
   "language": "python",
   "name": "python3"
  },
  "language_info": {
   "codemirror_mode": {
    "name": "ipython",
    "version": 3
   },
   "file_extension": ".py",
   "mimetype": "text/x-python",
   "name": "python",
   "nbconvert_exporter": "python",
   "pygments_lexer": "ipython3",
   "version": "3.10.9"
  }
 },
 "nbformat": 4,
 "nbformat_minor": 2
}
