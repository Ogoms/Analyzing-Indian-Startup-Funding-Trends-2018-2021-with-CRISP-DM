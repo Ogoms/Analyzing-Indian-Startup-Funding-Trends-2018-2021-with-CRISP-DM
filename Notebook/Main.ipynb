{
 "cells": [
  {
   "cell_type": "markdown",
   "metadata": {},
   "source": [
    "**ANALYZING INDIAN STARTUP FUNDING TRENDS (2018-2021) WITH CRISP-DM**\n",
    "\n",
    "**Description:**\n",
    "\n",
    "This project conducts an in-depth analysis of funding trends within the Indian startup ecosystem from 2018 to 2021, employing the CRISP-DM methodology. Leveraging comprehensive datasets on funding details, our goal is to identify patterns, fluctuations, and key insights into the funding landscape of Indian startups during this period. By examining funding amounts, types, sectors, and geographical distributions, we aim to provide actionable recommendations for stakeholders navigating the dynamic funding environment.\n",
    "\n",
    "**Hypothesis**\n",
    "\n",
    "**Null Hypothesis (H₀)**\n",
    "\n",
    "The funding landscape of Indian startups from 2018 to 2021 is not significantly influenced by economic conditions, industry sector performance, and Location.\n",
    "\n",
    "**Alternative Hypothesis (H₁)**\n",
    "\n",
    "The funding landscape of Indian startups from 2018 to 2021 is significantly influenced by economic conditions, industry sector performance, and Location.\n",
    "\n",
    "**Primary Business Question:**\n",
    "\n",
    "How have funding trends evolved in the Indian startup ecosystem from 2018 to 2021, and what insights can be derived to inform investment decisions, policy-making, and strategic planning for stakeholders?\n",
    "\n",
    "**Sub-Questions:**\n",
    "\n",
    "1. **Yearly Funding Trends:**\n",
    "\n",
    "How did the total funding amounts received by startups change each year from 2018 to 2021?\n",
    "\n",
    "Were there any significant peaks or troughs in funding during this period, and what external factors (e.g., economic conditions, policy changes) might have influenced these trends?\n",
    "\n",
    "2. **Sector-Specific Funding Analysis:**\n",
    "\n",
    "Which sectors (e.g., technology, healthcare, fintech) received the most funding, and how did this distribution change over the four years?\n",
    "\n",
    "What characteristics make certain sectors more attractive to investors, and how have sector-specific trends impacted the overall funding landscape?\n",
    "\n",
    "3. **Funding Stages and Evolution:**\n",
    "\n",
    "What were the most common funding stages (e.g., seed, Series A, Series B) for Indian startups during this period?\n",
    "\n",
    "How did the prevalence of different funding stages shift over time, and what does this indicate about the maturity and development of the Indian startup ecosystem?\n",
    "\n",
    "4. **Geographical Distribution of Funding:**\n",
    "\n",
    "How was funding distributed across various regions in India, and which regions emerged as major startup hubs from 2018 to 2021?\n",
    "\n",
    "What factors contributed to the rise of these startup hubs, and how did regional policies or infrastructure developments influence funding patterns?\n",
    "\n",
    "5. **Impact of External Factors:**\n",
    "\n",
    "How did global economic trends, such as market fluctuations and international trade relations, affect funding trends in the Indian startup ecosystem?\n",
    "\n",
    "In what ways did government policies, incentives, and regulatory changes impact the funding landscape?\n",
    "\n",
    "How did advancements in technology and shifts in consumer behavior influence investor interest and funding decisions?\n",
    "\n",
    "6. **Investor Behavior and Preferences:**\n",
    "\n",
    "Who were the most active investors in the Indian startup ecosystem during this period, and what were their investment strategies?\n",
    "\n",
    "How did investor preferences evolve concerning sectors, funding stages, and geographic locations?\n",
    "\n",
    "7. **Success Metrics and Funding Outcomes:**\n",
    "\n",
    "What correlation exists between the amount of funding received and the success metrics of startups (e.g., revenue growth, market expansion)?\n",
    "\n",
    "\n",
    "\n",
    "**CRISP-DM Strategy (One-Month Timeline)**\n",
    "\n",
    "**Week 1: Business Understanding & Data Understanding**\n",
    "**Objective:** Define project objectives, gather requirements, and understand the provided datasets.\n",
    "\n",
    "**Tasks:**\n",
    "1. Conduct meetings with team members to clarify project goals and expectations.\n",
    "2. Perform initial exploration of the datasets to understand their structure and content.\n",
    "3. Identify key variables and metrics of interest for analysis.\n",
    "\n",
    "**Week 2: Data Preparation and Cleaning**\n",
    "**Objective:** Clean and preprocess the datasets to ensure they are ready for analysis.\n",
    "\n",
    "**Tasks:**\n",
    "1. Address missing values, remove duplicates, and handle inconsistencies in the data.\n",
    "2. Conduct exploratory data analysis (EDA) to uncover patterns and trends.\n",
    "\n",
    "**Week 3: Modeling & Evaluation**\n",
    "**Objective:** Build models and evaluate their performance to derive insights.\n",
    "\n",
    "**Tasks:**\n",
    "1. Build predictive models to analyze startup success factors or funding outcomes.\n",
    "2. Evaluate model performance using appropriate metrics and validation techniques.\n",
    "\n",
    "**Week 4: Deployment**\n",
    "**Objective:** Present findings and provide actionable recommendations to stakeholders.\n",
    "\n",
    "**Tasks:**\n",
    "1. Create visualizations and reports to communicate insights effectively.\n",
    "2. Summarize key findings and implications for decision-making.\n",
    "3. Present actionable recommendations based on the analysis.\n",
    "4. Document the entire process, including methodologies, findings, and recommendations (Article)."
   ]
  },
  {
   "cell_type": "markdown",
   "metadata": {},
   "source": []
  },
  {
   "cell_type": "markdown",
   "metadata": {},
   "source": [
    "## Business Understanding & Data Understanding"
   ]
  },
  {
   "cell_type": "markdown",
   "metadata": {},
   "source": [
    "**Datasets Importation**"
   ]
  },
  {
   "cell_type": "code",
   "execution_count": 90,
   "metadata": {},
   "outputs": [
    {
     "name": "stdout",
     "output_type": "stream",
     "text": [
      "pyodbc is installed and imported successfully\n"
     ]
    }
   ],
   "source": [
    "# Connect to the Database Using \"pyodbc\"\n",
    "import pyodbc\n",
    "print(\"pyodbc is installed and imported successfully\")\n",
    "\n",
    "import pyodbc\n",
    "from dotenv import dotenv_values    #import the dotenv_values function from the dotenv package\n",
    "import pandas as pd\n",
    "import warnings \n",
    "\n",
    "warnings.filterwarnings('ignore')\n",
    "\n",
    "# Load environment variables from .env file into a dictionary\n",
    "environment_variables = dotenv_values('.env')\n",
    "\n",
    "# Get the values for the credentials set in the '.env' file\n",
    "server = environment_variables.get(\"SERVER_NAME\")\n",
    "database = environment_variables.get(\"DATABASE_NAME\")\n",
    "login = environment_variables.get(\"LOGIN\")\n",
    "password = environment_variables.get(\"PASSWORD\")\n",
    "\n",
    "\n",
    "\n"
   ]
  },
  {
   "cell_type": "code",
   "execution_count": 91,
   "metadata": {},
   "outputs": [],
   "source": [
    "# Create a connection string\n",
    "connection_string = f\"DRIVER={{SQL Server}};SERVER={server};DATABASE={database};UID={login};PWD={password};MARS_Connection=yes;MinProtocolVersion=TLSv1.2;\"\n"
   ]
  },
  {
   "cell_type": "code",
   "execution_count": 92,
   "metadata": {},
   "outputs": [
    {
     "name": "stdout",
     "output_type": "stream",
     "text": [
      "Connection successful\n"
     ]
    }
   ],
   "source": [
    "# connect to the Database\n",
    "connection = pyodbc.connect(connection_string)\n",
    "print(\"Connection successful\")\n"
   ]
  },
  {
   "cell_type": "code",
   "execution_count": 93,
   "metadata": {},
   "outputs": [],
   "source": [
    "# Query the Sql Database\n",
    "query = \"SELECT * FROM dbo.LP1_startup_funding2020\"\n",
    "\n",
    "# Execute the query and read the results into a DataFrame\n",
    "data_1 = pd.read_sql(query, connection)\n"
   ]
  },
  {
   "cell_type": "code",
   "execution_count": 94,
   "metadata": {},
   "outputs": [],
   "source": [
    "query = \"SELECT * FROM dbo.LP1_startup_funding2021\"\n",
    "\n",
    "data_2 = pd.read_sql(query, connection)"
   ]
  },
  {
   "cell_type": "code",
   "execution_count": 95,
   "metadata": {},
   "outputs": [],
   "source": [
    "# Load the CSV file into  DataFrame\n",
    "\n",
    "\n",
    "df_data_3 = pd.read_csv('../CSV Files/startup_funding2018.csv')\n",
    "\n",
    "df_data_4 = pd.read_csv('../CSV Files/startup_funding2019.csv')"
   ]
  },
  {
   "cell_type": "markdown",
   "metadata": {},
   "source": [
    "**Initial Exploration**"
   ]
  },
  {
   "cell_type": "code",
   "execution_count": 96,
   "metadata": {},
   "outputs": [
    {
     "name": "stdout",
     "output_type": "stream",
     "text": [
      "Columns in data_1: Index(['Company_Brand', 'Founded', 'HeadQuarter', 'Sector', 'What_it_does', 'Founders', 'Investor', 'Amount', 'Stage', 'column10'], dtype='object')\n",
      "Columns in data_2: Index(['Company_Brand', 'Founded', 'HeadQuarter', 'Sector', 'What_it_does', 'Founders', 'Investor', 'Amount', 'Stage'], dtype='object')\n",
      "Columns in df_data_3: Index(['Company Name', 'Industry', 'Round/Series', 'Amount', 'Location', 'About Company'], dtype='object')\n",
      "Columns in df_data_4: Index(['Company/Brand', 'Founded', 'HeadQuarter', 'Sector', 'What it does', 'Founders', 'Investor', 'Amount($)', 'Stage'], dtype='object')\n"
     ]
    }
   ],
   "source": [
    "# Inspect columns of each DataFrame\n",
    "print(\"Columns in data_1:\", data_1.columns)\n",
    "print(\"Columns in data_2:\", data_2.columns)\n",
    "print(\"Columns in df_data_3:\", df_data_3.columns)\n",
    "print(\"Columns in df_data_4:\", df_data_4.columns)\n"
   ]
  },
  {
   "cell_type": "code",
   "execution_count": 97,
   "metadata": {},
   "outputs": [],
   "source": [
    "# Define a function to convert rupees to dollars\n",
    "def rupees_to_dollars(amount, currency):\n",
    "    if currency.lower() == 'rupees':\n",
    "        return amount * 0.014  # Conversion rate from rupees to dollars\n",
    "    else:\n",
    "        return amount"
   ]
  },
  {
   "cell_type": "code",
   "execution_count": 98,
   "metadata": {},
   "outputs": [],
   "source": [
    "# Standardize column names\n",
    "df_data_3 = df_data_3.rename(columns={\n",
    "    'Company Name': 'Company_Brand',\n",
    "    'Industry': 'Sector',\n",
    "    'Round/Series': 'Stage',\n",
    "    'Amount': 'Amount',\n",
    "    'Location': 'HeadQuarter',\n",
    "    'About Company': 'What_it_does'\n",
    "})\n",
    "\n",
    "df_data_4 = df_data_4.rename(columns={\n",
    "    'Company/Brand': 'Company_Brand',\n",
    "    'What it does': 'What_it_does',\n",
    "    'Amount($)': 'Amount'\n",
    "})"
   ]
  },
  {
   "cell_type": "code",
   "execution_count": 99,
   "metadata": {},
   "outputs": [],
   "source": [
    "# Ensure all DataFrames have the same columns\n",
    "common_columns = ['Company_Brand', 'Founded', 'HeadQuarter', 'Sector', 'What_it_does', 'Founders', 'Investor', 'Amount', 'Stage', 'column10']\n"
   ]
  },
  {
   "cell_type": "markdown",
   "metadata": {},
   "source": [
    "**Merging the Four (4) DataFrames into a Single DataFrame**"
   ]
  },
  {
   "cell_type": "code",
   "execution_count": 100,
   "metadata": {},
   "outputs": [],
   "source": [
    "\n",
    "# Check if 'column10' is present in data_1 and data_2\n",
    "if 'column10' not in data_1.columns:\n",
    "    data_1['column10'] = pd.NA\n",
    "if 'column10' not in data_2.columns:\n",
    "    data_2['column10'] = pd.NA\n",
    "\n",
    "# Add missing columns to df_data_3\n",
    "for column in common_columns:\n",
    "    if column not in df_data_3.columns:\n",
    "        df_data_3[column] = pd.NA\n",
    "\n",
    "# Add missing columns to df_data_4\n",
    "for column in common_columns:\n",
    "    if column not in df_data_4.columns:\n",
    "        df_data_4[column] = pd.NA\n",
    "\n",
    "# Align columns in each DataFrame\n",
    "data_1 = data_1[common_columns]\n",
    "data_2 = data_2[common_columns]\n",
    "df_data_3 = df_data_3[common_columns]\n",
    "df_data_4 = df_data_4[common_columns]\n",
    "\n",
    "# Apply the conversion function to the 'Amount' column in all DataFrames\n",
    "data_1['Amount'] = data_1.apply(lambda row: rupees_to_dollars(row['Amount'], 'dollars'), axis=1)\n",
    "data_2['Amount'] = data_2.apply(lambda row: rupees_to_dollars(row['Amount'], 'dollars'), axis=1)\n",
    "df_data_3['Amount'] = df_data_3.apply(lambda row: rupees_to_dollars(row['Amount'], 'dollars'), axis=1)\n",
    "df_data_4['Amount'] = df_data_4.apply(lambda row: rupees_to_dollars(row['Amount'], 'dollars'), axis=1)\n",
    "\n",
    "\n",
    "\n",
    "# Concatenate the DataFrames\n",
    "merged_data = pd.concat([data_1, data_2, df_data_3, df_data_4], ignore_index=True)\n",
    "\n",
    "\n"
   ]
  },
  {
   "cell_type": "markdown",
   "metadata": {},
   "source": [
    "**Initial Exploration**\n"
   ]
  },
  {
   "cell_type": "code",
   "execution_count": 101,
   "metadata": {},
   "outputs": [
    {
     "name": "stdout",
     "output_type": "stream",
     "text": [
      "First 5 rows of the merged dataset:\n"
     ]
    },
    {
     "data": {
      "text/html": [
       "<div>\n",
       "<style scoped>\n",
       "    .dataframe tbody tr th:only-of-type {\n",
       "        vertical-align: middle;\n",
       "    }\n",
       "\n",
       "    .dataframe tbody tr th {\n",
       "        vertical-align: top;\n",
       "    }\n",
       "\n",
       "    .dataframe thead th {\n",
       "        text-align: right;\n",
       "    }\n",
       "</style>\n",
       "<table border=\"1\" class=\"dataframe\">\n",
       "  <thead>\n",
       "    <tr style=\"text-align: right;\">\n",
       "      <th></th>\n",
       "      <th>Company_Brand</th>\n",
       "      <th>Founded</th>\n",
       "      <th>HeadQuarter</th>\n",
       "      <th>Sector</th>\n",
       "      <th>What_it_does</th>\n",
       "      <th>Founders</th>\n",
       "      <th>Investor</th>\n",
       "      <th>Amount</th>\n",
       "      <th>Stage</th>\n",
       "      <th>column10</th>\n",
       "    </tr>\n",
       "  </thead>\n",
       "  <tbody>\n",
       "    <tr>\n",
       "      <th>0</th>\n",
       "      <td>Aqgromalin</td>\n",
       "      <td>2019.0</td>\n",
       "      <td>Chennai</td>\n",
       "      <td>AgriTech</td>\n",
       "      <td>Cultivating Ideas for Profit</td>\n",
       "      <td>Prasanna Manogaran, Bharani C L</td>\n",
       "      <td>Angel investors</td>\n",
       "      <td>200000.0</td>\n",
       "      <td>None</td>\n",
       "      <td>None</td>\n",
       "    </tr>\n",
       "    <tr>\n",
       "      <th>1</th>\n",
       "      <td>Krayonnz</td>\n",
       "      <td>2019.0</td>\n",
       "      <td>Bangalore</td>\n",
       "      <td>EdTech</td>\n",
       "      <td>An academy-guardian-scholar centric ecosystem ...</td>\n",
       "      <td>Saurabh Dixit, Gurudutt Upadhyay</td>\n",
       "      <td>GSF Accelerator</td>\n",
       "      <td>100000.0</td>\n",
       "      <td>Pre-seed</td>\n",
       "      <td>None</td>\n",
       "    </tr>\n",
       "    <tr>\n",
       "      <th>2</th>\n",
       "      <td>PadCare Labs</td>\n",
       "      <td>2018.0</td>\n",
       "      <td>Pune</td>\n",
       "      <td>Hygiene management</td>\n",
       "      <td>Converting bio-hazardous waste to harmless waste</td>\n",
       "      <td>Ajinkya Dhariya</td>\n",
       "      <td>Venture Center</td>\n",
       "      <td>NaN</td>\n",
       "      <td>Pre-seed</td>\n",
       "      <td>None</td>\n",
       "    </tr>\n",
       "    <tr>\n",
       "      <th>3</th>\n",
       "      <td>NCOME</td>\n",
       "      <td>2020.0</td>\n",
       "      <td>New Delhi</td>\n",
       "      <td>Escrow</td>\n",
       "      <td>Escrow-as-a-service platform</td>\n",
       "      <td>Ritesh Tiwari</td>\n",
       "      <td>Venture Catalysts, PointOne Capital</td>\n",
       "      <td>400000.0</td>\n",
       "      <td>None</td>\n",
       "      <td>None</td>\n",
       "    </tr>\n",
       "    <tr>\n",
       "      <th>4</th>\n",
       "      <td>Gramophone</td>\n",
       "      <td>2016.0</td>\n",
       "      <td>Indore</td>\n",
       "      <td>AgriTech</td>\n",
       "      <td>Gramophone is an AgTech platform enabling acce...</td>\n",
       "      <td>Ashish Rajan Singh, Harshit Gupta, Nishant Mah...</td>\n",
       "      <td>Siana Capital Management, Info Edge</td>\n",
       "      <td>340000.0</td>\n",
       "      <td>None</td>\n",
       "      <td>None</td>\n",
       "    </tr>\n",
       "  </tbody>\n",
       "</table>\n",
       "</div>"
      ],
      "text/plain": [
       "  Company_Brand  Founded HeadQuarter              Sector                                       What_it_does                                           Founders                             Investor    Amount     Stage column10\n",
       "0    Aqgromalin   2019.0     Chennai            AgriTech                       Cultivating Ideas for Profit                    Prasanna Manogaran, Bharani C L                      Angel investors  200000.0      None     None\n",
       "1      Krayonnz   2019.0   Bangalore              EdTech  An academy-guardian-scholar centric ecosystem ...                   Saurabh Dixit, Gurudutt Upadhyay                      GSF Accelerator  100000.0  Pre-seed     None\n",
       "2  PadCare Labs   2018.0        Pune  Hygiene management   Converting bio-hazardous waste to harmless waste                                    Ajinkya Dhariya                       Venture Center       NaN  Pre-seed     None\n",
       "3         NCOME   2020.0   New Delhi              Escrow                       Escrow-as-a-service platform                                      Ritesh Tiwari  Venture Catalysts, PointOne Capital  400000.0      None     None\n",
       "4    Gramophone   2016.0      Indore            AgriTech  Gramophone is an AgTech platform enabling acce...  Ashish Rajan Singh, Harshit Gupta, Nishant Mah...  Siana Capital Management, Info Edge  340000.0      None     None"
      ]
     },
     "execution_count": 101,
     "metadata": {},
     "output_type": "execute_result"
    }
   ],
   "source": [
    "# Display the first few rows of the combined DataFrame\n",
    "print(\"First 5 rows of the merged dataset:\")\n",
    "\n",
    "merged_data.head()\n"
   ]
  },
  {
   "cell_type": "code",
   "execution_count": 102,
   "metadata": {},
   "outputs": [
    {
     "name": "stdout",
     "output_type": "stream",
     "text": [
      "\n",
      "Structure of the merged dataset:\n",
      "<class 'pandas.core.frame.DataFrame'>\n",
      "RangeIndex: 2879 entries, 0 to 2878\n",
      "Data columns (total 10 columns):\n",
      " #   Column         Non-Null Count  Dtype  \n",
      "---  ------         --------------  -----  \n",
      " 0   Company_Brand  2879 non-null   object \n",
      " 1   Founded        2110 non-null   float64\n",
      " 2   HeadQuarter    2765 non-null   object \n",
      " 3   Sector         2861 non-null   object \n",
      " 4   What_it_does   2879 non-null   object \n",
      " 5   Founders       2334 non-null   object \n",
      " 6   Investor       2253 non-null   object \n",
      " 7   Amount         2622 non-null   object \n",
      " 8   Stage          1941 non-null   object \n",
      " 9   column10       2 non-null      object \n",
      "dtypes: float64(1), object(9)\n",
      "memory usage: 225.0+ KB\n"
     ]
    }
   ],
   "source": [
    "# Display the structure of the combined DataFrame\n",
    "print(\"\\nStructure of the merged dataset:\")\n",
    "merged_data.info()"
   ]
  },
  {
   "cell_type": "code",
   "execution_count": 103,
   "metadata": {},
   "outputs": [
    {
     "name": "stdout",
     "output_type": "stream",
     "text": [
      "\n",
      "Summary statistics for the 'Amount' column:\n"
     ]
    },
    {
     "data": {
      "text/plain": [
       "count     2622\n",
       "unique     774\n",
       "top          —\n",
       "freq       148\n",
       "Name: Amount, dtype: object"
      ]
     },
     "execution_count": 103,
     "metadata": {},
     "output_type": "execute_result"
    }
   ],
   "source": [
    "# Display the summary statistics for the 'Amount' column\n",
    "print(\"\\nSummary statistics for the 'Amount' column:\")\n",
    "\n",
    "merged_data['Amount'].describe()\n"
   ]
  },
  {
   "cell_type": "code",
   "execution_count": 104,
   "metadata": {},
   "outputs": [
    {
     "name": "stdout",
     "output_type": "stream",
     "text": [
      "\n",
      "Missing values in each column:\n"
     ]
    },
    {
     "data": {
      "text/plain": [
       "Company_Brand       0\n",
       "Founded           769\n",
       "HeadQuarter       114\n",
       "Sector             18\n",
       "What_it_does        0\n",
       "Founders          545\n",
       "Investor          626\n",
       "Amount            257\n",
       "Stage             938\n",
       "column10         2877\n",
       "dtype: int64"
      ]
     },
     "execution_count": 104,
     "metadata": {},
     "output_type": "execute_result"
    }
   ],
   "source": [
    "\n",
    "# Check for missing values\n",
    "print(\"\\nMissing values in each column:\")\n",
    "\n",
    "merged_data.isnull().sum()"
   ]
  },
  {
   "cell_type": "code",
   "execution_count": 105,
   "metadata": {},
   "outputs": [
    {
     "name": "stdout",
     "output_type": "stream",
     "text": [
      "\n",
      "Number of unique values in each column:\n",
      "Company_Brand    2214\n",
      "Founded            34\n",
      "HeadQuarter       172\n",
      "Sector            873\n",
      "What_it_does     2691\n",
      "Founders         1980\n",
      "Investor         1777\n",
      "Amount            774\n",
      "Stage              75\n",
      "column10            2\n",
      "dtype: int64\n"
     ]
    }
   ],
   "source": [
    "# Display the number of unique values in each column\n",
    "print(\"\\nNumber of unique values in each column:\")\n",
    "\n",
    "print(merged_data.nunique())"
   ]
  },
  {
   "cell_type": "code",
   "execution_count": 106,
   "metadata": {},
   "outputs": [
    {
     "name": "stdout",
     "output_type": "stream",
     "text": [
      "\n",
      "Summary statistics for the 'Amount' column after conversion:\n"
     ]
    },
    {
     "data": {
      "text/plain": [
       "count    9.760000e+02\n",
       "mean     9.496123e+07\n",
       "std      2.243790e+09\n",
       "min      7.500000e+03\n",
       "25%      9.796475e+05\n",
       "50%      2.800000e+06\n",
       "75%      1.000000e+07\n",
       "max      7.000000e+10\n",
       "Name: Amount, dtype: float64"
      ]
     },
     "execution_count": 106,
     "metadata": {},
     "output_type": "execute_result"
    }
   ],
   "source": [
    "# Convert 'Amount' column to numeric dtype, coercing errors to NaN\n",
    "merged_data['Amount'] = pd.to_numeric(merged_data['Amount'], errors='coerce')\n",
    "\n",
    "# Display the summary statistics for the 'Amount' column\n",
    "print(\"\\nSummary statistics for the 'Amount' column after conversion:\")\n",
    "\n",
    "merged_data['Amount'].describe()\n"
   ]
  },
  {
   "cell_type": "markdown",
   "metadata": {},
   "source": [
    "**Key Variables and Metrics of Interest for Analysis**"
   ]
  },
  {
   "cell_type": "markdown",
   "metadata": {},
   "source": [
    "\n",
    "**1. Yearly Funding Trends:**\n",
    "\n",
    "Amount: Total funding amounts received by startups each year.\n",
    "\n",
    "Year: Yearly trend analysis.\n",
    "\n",
    "**2. Sector-Specific Funding Analysis:**\n",
    "\n",
    "Amount: Funding amounts received by startups in different sectors.\n",
    "\n",
    "Sector: Sector classification of startups.\n",
    "\n",
    "Year: Yearly trend analysis.\n",
    "\n",
    "**3. Funding Stages and Evolution:**\n",
    "\n",
    "Stage: Funding stage of startups (e.g., seed, Series A, Series B).\n",
    "\n",
    "Year: Yearly trend analysis.\n",
    "\n",
    "**4. Geographical Distribution of Funding:**\n",
    "\n",
    "Amount: Funding amounts received by startups in different regions.\n",
    "\n",
    "Headquarter Location: Geographical location of startups.\n",
    "\n",
    "Year: Yearly trend analysis.\n",
    "\n",
    "**5. Impact of External Factors:**\n",
    "\n",
    "External factors: Economic conditions, policy changes, technological advancements, consumer behavior shifts.\n",
    "\n",
    "Year: Yearly trend analysis.\n",
    "\n",
    "**6. Investor Behavior and Preferences:**\n",
    "\n",
    "Investor: Identity and characteristics of investors.\n",
    "\n",
    "Amount: Investment amounts by investors.\n",
    "\n",
    "Sector: Preferred sectors of investors.\n",
    "\n",
    "Stage: Preferred funding stages of investors.\n",
    "\n",
    "Year: Yearly trend analysis.\n",
    "\n",
    "**7. Success Metrics and Funding Outcomes:**\n",
    "\n",
    "Success metrics: Revenue growth, market expansion, profitability.\n",
    "\n",
    "Amount: Correlation between funding amounts and success metrics.\n",
    "\n",
    "Year: Yearly trend analysis."
   ]
  },
  {
   "cell_type": "markdown",
   "metadata": {},
   "source": [
    "## Data Preparation and Cleaning"
   ]
  },
  {
   "cell_type": "markdown",
   "metadata": {},
   "source": [
    "**Addressing Missing Values, Removing Duplicates, and Handling Inconsistencies in the Data**"
   ]
  },
  {
   "cell_type": "code",
   "execution_count": 107,
   "metadata": {},
   "outputs": [
    {
     "name": "stdout",
     "output_type": "stream",
     "text": [
      "Missing Values:\n",
      "Company_Brand       0\n",
      "Founded           769\n",
      "HeadQuarter       114\n",
      "Sector             18\n",
      "What_it_does        0\n",
      "Founders          545\n",
      "Investor          626\n",
      "Amount           1903\n",
      "Stage             938\n",
      "column10         2877\n",
      "dtype: int64\n"
     ]
    }
   ],
   "source": [
    "#Step 1: Identify missing values\n",
    "\n",
    "missing_values = merged_data.isnull().sum()\n",
    "print(\"Missing Values:\")\n",
    "print(missing_values)"
   ]
  },
  {
   "cell_type": "code",
   "execution_count": 108,
   "metadata": {},
   "outputs": [],
   "source": [
    "#Step 2: Standardize Formats\n",
    "\n",
    "# To ensure that 'Founded' is treated as numeric, and 'HeadQuarter', 'Sector', 'What_it_does', 'Founders', 'Investor', 'Stage' are strings.\n",
    "\n",
    "merged_data['Founded'] = pd.to_numeric(merged_data['Founded'], errors='coerce')\n",
    "merged_data['HeadQuarter'] = merged_data['HeadQuarter'].astype(str).str.title()  \n",
    "merged_data['Sector'] = merged_data['Sector'].astype(str).str.title()\n",
    "merged_data['What_it_does'] = merged_data['What_it_does'].astype(str).str.title()\n",
    "merged_data['Founders'] = merged_data['Founders'].astype(str).str.title()\n",
    "merged_data['Investor'] = merged_data['Investor'].astype(str).str.title()\n",
    "merged_data['Stage'] = merged_data['Stage'].astype(str).str.title()"
   ]
  },
  {
   "cell_type": "code",
   "execution_count": 109,
   "metadata": {},
   "outputs": [],
   "source": [
    "# Step 3: Handle missing values\n",
    "merged_data['Founded'].fillna(merged_data['Founded'].median(), inplace=True)\n",
    "merged_data['HeadQuarter'].fillna(merged_data['HeadQuarter'].mode()[0], inplace=True)\n",
    "merged_data['Sector'].fillna(merged_data['Sector'].mode()[0], inplace=True)\n",
    "merged_data['Founders'].fillna('Unknown', inplace=True)  \n",
    "merged_data['Investor'].fillna('Unknown', inplace=True)  \n",
    "merged_data['Amount'].fillna(merged_data['Amount'].median(), inplace=True)  \n",
    "merged_data['Stage'].fillna(merged_data['Stage'].mode()[0], inplace=True)\n"
   ]
  },
  {
   "cell_type": "code",
   "execution_count": 110,
   "metadata": {},
   "outputs": [],
   "source": [
    "# Step 4: Remove duplicates\n",
    "merged_data.drop_duplicates(inplace=True)\n"
   ]
  },
  {
   "cell_type": "code",
   "execution_count": 111,
   "metadata": {},
   "outputs": [],
   "source": [
    "# Step 5: Handle inconsistencies\n",
    "merged_data['Company_Brand'] = merged_data['Company_Brand'].str.lower()"
   ]
  },
  {
   "cell_type": "code",
   "execution_count": 112,
   "metadata": {},
   "outputs": [],
   "source": [
    "# Step 6: Remove 'column10' column\n",
    "merged_data.drop(columns=['column10'], inplace=True)"
   ]
  },
  {
   "cell_type": "code",
   "execution_count": 113,
   "metadata": {},
   "outputs": [
    {
     "name": "stdout",
     "output_type": "stream",
     "text": [
      "Cleaned Dataset:\n"
     ]
    },
    {
     "data": {
      "text/html": [
       "<div>\n",
       "<style scoped>\n",
       "    .dataframe tbody tr th:only-of-type {\n",
       "        vertical-align: middle;\n",
       "    }\n",
       "\n",
       "    .dataframe tbody tr th {\n",
       "        vertical-align: top;\n",
       "    }\n",
       "\n",
       "    .dataframe thead th {\n",
       "        text-align: right;\n",
       "    }\n",
       "</style>\n",
       "<table border=\"1\" class=\"dataframe\">\n",
       "  <thead>\n",
       "    <tr style=\"text-align: right;\">\n",
       "      <th></th>\n",
       "      <th>Company_Brand</th>\n",
       "      <th>Founded</th>\n",
       "      <th>HeadQuarter</th>\n",
       "      <th>Sector</th>\n",
       "      <th>What_it_does</th>\n",
       "      <th>Founders</th>\n",
       "      <th>Investor</th>\n",
       "      <th>Amount</th>\n",
       "      <th>Stage</th>\n",
       "    </tr>\n",
       "  </thead>\n",
       "  <tbody>\n",
       "    <tr>\n",
       "      <th>0</th>\n",
       "      <td>aqgromalin</td>\n",
       "      <td>2019</td>\n",
       "      <td>Chennai</td>\n",
       "      <td>Agritech</td>\n",
       "      <td>Cultivating Ideas For Profit</td>\n",
       "      <td>Prasanna Manogaran, Bharani C L</td>\n",
       "      <td>Angel Investors</td>\n",
       "      <td>200000.0</td>\n",
       "      <td>None</td>\n",
       "    </tr>\n",
       "    <tr>\n",
       "      <th>1</th>\n",
       "      <td>krayonnz</td>\n",
       "      <td>2019</td>\n",
       "      <td>Bangalore</td>\n",
       "      <td>Edtech</td>\n",
       "      <td>An Academy-Guardian-Scholar Centric Ecosystem ...</td>\n",
       "      <td>Saurabh Dixit, Gurudutt Upadhyay</td>\n",
       "      <td>Gsf Accelerator</td>\n",
       "      <td>100000.0</td>\n",
       "      <td>Pre-Seed</td>\n",
       "    </tr>\n",
       "    <tr>\n",
       "      <th>2</th>\n",
       "      <td>padcare labs</td>\n",
       "      <td>2018</td>\n",
       "      <td>Pune</td>\n",
       "      <td>Hygiene Management</td>\n",
       "      <td>Converting Bio-Hazardous Waste To Harmless Waste</td>\n",
       "      <td>Ajinkya Dhariya</td>\n",
       "      <td>Venture Center</td>\n",
       "      <td>2800000.0</td>\n",
       "      <td>Pre-Seed</td>\n",
       "    </tr>\n",
       "    <tr>\n",
       "      <th>3</th>\n",
       "      <td>ncome</td>\n",
       "      <td>2020</td>\n",
       "      <td>New Delhi</td>\n",
       "      <td>Escrow</td>\n",
       "      <td>Escrow-As-A-Service Platform</td>\n",
       "      <td>Ritesh Tiwari</td>\n",
       "      <td>Venture Catalysts, Pointone Capital</td>\n",
       "      <td>400000.0</td>\n",
       "      <td>None</td>\n",
       "    </tr>\n",
       "    <tr>\n",
       "      <th>4</th>\n",
       "      <td>gramophone</td>\n",
       "      <td>2016</td>\n",
       "      <td>Indore</td>\n",
       "      <td>Agritech</td>\n",
       "      <td>Gramophone Is An Agtech Platform Enabling Acce...</td>\n",
       "      <td>Ashish Rajan Singh, Harshit Gupta, Nishant Mah...</td>\n",
       "      <td>Siana Capital Management, Info Edge</td>\n",
       "      <td>340000.0</td>\n",
       "      <td>None</td>\n",
       "    </tr>\n",
       "  </tbody>\n",
       "</table>\n",
       "</div>"
      ],
      "text/plain": [
       "  Company_Brand  Founded HeadQuarter              Sector                                       What_it_does                                           Founders                             Investor     Amount     Stage\n",
       "0    aqgromalin     2019     Chennai            Agritech                       Cultivating Ideas For Profit                    Prasanna Manogaran, Bharani C L                      Angel Investors   200000.0      None\n",
       "1      krayonnz     2019   Bangalore              Edtech  An Academy-Guardian-Scholar Centric Ecosystem ...                   Saurabh Dixit, Gurudutt Upadhyay                      Gsf Accelerator   100000.0  Pre-Seed\n",
       "2  padcare labs     2018        Pune  Hygiene Management   Converting Bio-Hazardous Waste To Harmless Waste                                    Ajinkya Dhariya                       Venture Center  2800000.0  Pre-Seed\n",
       "3         ncome     2020   New Delhi              Escrow                       Escrow-As-A-Service Platform                                      Ritesh Tiwari  Venture Catalysts, Pointone Capital   400000.0      None\n",
       "4    gramophone     2016      Indore            Agritech  Gramophone Is An Agtech Platform Enabling Acce...  Ashish Rajan Singh, Harshit Gupta, Nishant Mah...  Siana Capital Management, Info Edge   340000.0      None"
      ]
     },
     "execution_count": 113,
     "metadata": {},
     "output_type": "execute_result"
    }
   ],
   "source": [
    "# Ensure 'Founded' column is integer after filling missing values\n",
    "merged_data['Founded'] = merged_data['Founded'].astype(int)\n",
    "\n",
    "# Display the cleaned dataset\n",
    "print(\"Cleaned Dataset:\")\n",
    "\n",
    "merged_data.head()"
   ]
  },
  {
   "cell_type": "code",
   "execution_count": 114,
   "metadata": {},
   "outputs": [
    {
     "name": "stdout",
     "output_type": "stream",
     "text": [
      "<class 'pandas.core.frame.DataFrame'>\n",
      "Index: 2853 entries, 0 to 2878\n",
      "Data columns (total 9 columns):\n",
      " #   Column         Non-Null Count  Dtype  \n",
      "---  ------         --------------  -----  \n",
      " 0   Company_Brand  2853 non-null   object \n",
      " 1   Founded        2853 non-null   int32  \n",
      " 2   HeadQuarter    2853 non-null   object \n",
      " 3   Sector         2853 non-null   object \n",
      " 4   What_it_does   2853 non-null   object \n",
      " 5   Founders       2853 non-null   object \n",
      " 6   Investor       2853 non-null   object \n",
      " 7   Amount         2853 non-null   float64\n",
      " 8   Stage          2853 non-null   object \n",
      "dtypes: float64(1), int32(1), object(7)\n",
      "memory usage: 211.7+ KB\n"
     ]
    }
   ],
   "source": [
    "merged_data.info ()"
   ]
  },
  {
   "cell_type": "code",
   "execution_count": 115,
   "metadata": {},
   "outputs": [
    {
     "name": "stdout",
     "output_type": "stream",
     "text": [
      "Missing Values:\n",
      "Company_Brand    0\n",
      "Founded          0\n",
      "HeadQuarter      0\n",
      "Sector           0\n",
      "What_it_does     0\n",
      "Founders         0\n",
      "Investor         0\n",
      "Amount           0\n",
      "Stage            0\n",
      "dtype: int64\n"
     ]
    }
   ],
   "source": [
    "# Verify that the cleaned dataset has no missing values\n",
    "\n",
    "missing_values = merged_data.isnull().sum()\n",
    "print(\"Missing Values:\")\n",
    "print(missing_values)"
   ]
  },
  {
   "cell_type": "code",
   "execution_count": 116,
   "metadata": {},
   "outputs": [
    {
     "name": "stdout",
     "output_type": "stream",
     "text": [
      "Number of duplicate rows: 0\n"
     ]
    }
   ],
   "source": [
    "# Checking for duplicates\n",
    "\n",
    "duplicates = merged_data.duplicated().sum()\n",
    "print(f\"Number of duplicate rows: {duplicates}\")\n"
   ]
  },
  {
   "cell_type": "code",
   "execution_count": 117,
   "metadata": {},
   "outputs": [
    {
     "name": "stdout",
     "output_type": "stream",
     "text": [
      "Data types of each column:\n",
      " Company_Brand     object\n",
      "Founded            int32\n",
      "HeadQuarter       object\n",
      "Sector            object\n",
      "What_it_does      object\n",
      "Founders          object\n",
      "Investor          object\n",
      "Amount           float64\n",
      "Stage             object\n",
      "dtype: object\n"
     ]
    }
   ],
   "source": [
    "# Checking Data Types\n",
    "\n",
    "data_types = merged_data.dtypes\n",
    "print(\"Data types of each column:\\n\", data_types)\n"
   ]
  },
  {
   "cell_type": "code",
   "execution_count": 118,
   "metadata": {},
   "outputs": [
    {
     "name": "stdout",
     "output_type": "stream",
     "text": [
      "Summary statistics for the dataset:\n"
     ]
    },
    {
     "data": {
      "text/html": [
       "<div>\n",
       "<style scoped>\n",
       "    .dataframe tbody tr th:only-of-type {\n",
       "        vertical-align: middle;\n",
       "    }\n",
       "\n",
       "    .dataframe tbody tr th {\n",
       "        vertical-align: top;\n",
       "    }\n",
       "\n",
       "    .dataframe thead th {\n",
       "        text-align: right;\n",
       "    }\n",
       "</style>\n",
       "<table border=\"1\" class=\"dataframe\">\n",
       "  <thead>\n",
       "    <tr style=\"text-align: right;\">\n",
       "      <th></th>\n",
       "      <th>Company_Brand</th>\n",
       "      <th>Founded</th>\n",
       "      <th>HeadQuarter</th>\n",
       "      <th>Sector</th>\n",
       "      <th>What_it_does</th>\n",
       "      <th>Founders</th>\n",
       "      <th>Investor</th>\n",
       "      <th>Amount</th>\n",
       "      <th>Stage</th>\n",
       "    </tr>\n",
       "  </thead>\n",
       "  <tbody>\n",
       "    <tr>\n",
       "      <th>count</th>\n",
       "      <td>2853</td>\n",
       "      <td>2853.000000</td>\n",
       "      <td>2853</td>\n",
       "      <td>2853</td>\n",
       "      <td>2853</td>\n",
       "      <td>2853</td>\n",
       "      <td>2853</td>\n",
       "      <td>2.853000e+03</td>\n",
       "      <td>2853</td>\n",
       "    </tr>\n",
       "    <tr>\n",
       "      <th>unique</th>\n",
       "      <td>2152</td>\n",
       "      <td>NaN</td>\n",
       "      <td>173</td>\n",
       "      <td>837</td>\n",
       "      <td>2690</td>\n",
       "      <td>1980</td>\n",
       "      <td>1759</td>\n",
       "      <td>NaN</td>\n",
       "      <td>71</td>\n",
       "    </tr>\n",
       "    <tr>\n",
       "      <th>top</th>\n",
       "      <td>bharatpe</td>\n",
       "      <td>NaN</td>\n",
       "      <td>Bangalore</td>\n",
       "      <td>Fintech</td>\n",
       "      <td>Provides Online Learning Classes</td>\n",
       "      <td>Nan</td>\n",
       "      <td>Nan</td>\n",
       "      <td>NaN</td>\n",
       "      <td>None</td>\n",
       "    </tr>\n",
       "    <tr>\n",
       "      <th>freq</th>\n",
       "      <td>9</td>\n",
       "      <td>NaN</td>\n",
       "      <td>756</td>\n",
       "      <td>256</td>\n",
       "      <td>5</td>\n",
       "      <td>528</td>\n",
       "      <td>525</td>\n",
       "      <td>NaN</td>\n",
       "      <td>881</td>\n",
       "    </tr>\n",
       "    <tr>\n",
       "      <th>mean</th>\n",
       "      <td>NaN</td>\n",
       "      <td>2016.318612</td>\n",
       "      <td>NaN</td>\n",
       "      <td>NaN</td>\n",
       "      <td>NaN</td>\n",
       "      <td>NaN</td>\n",
       "      <td>NaN</td>\n",
       "      <td>3.415538e+07</td>\n",
       "      <td>NaN</td>\n",
       "    </tr>\n",
       "    <tr>\n",
       "      <th>std</th>\n",
       "      <td>NaN</td>\n",
       "      <td>3.757992</td>\n",
       "      <td>NaN</td>\n",
       "      <td>NaN</td>\n",
       "      <td>NaN</td>\n",
       "      <td>NaN</td>\n",
       "      <td>NaN</td>\n",
       "      <td>1.312627e+09</td>\n",
       "      <td>NaN</td>\n",
       "    </tr>\n",
       "    <tr>\n",
       "      <th>min</th>\n",
       "      <td>NaN</td>\n",
       "      <td>1963.000000</td>\n",
       "      <td>NaN</td>\n",
       "      <td>NaN</td>\n",
       "      <td>NaN</td>\n",
       "      <td>NaN</td>\n",
       "      <td>NaN</td>\n",
       "      <td>7.500000e+03</td>\n",
       "      <td>NaN</td>\n",
       "    </tr>\n",
       "    <tr>\n",
       "      <th>25%</th>\n",
       "      <td>NaN</td>\n",
       "      <td>2015.000000</td>\n",
       "      <td>NaN</td>\n",
       "      <td>NaN</td>\n",
       "      <td>NaN</td>\n",
       "      <td>NaN</td>\n",
       "      <td>NaN</td>\n",
       "      <td>2.800000e+06</td>\n",
       "      <td>NaN</td>\n",
       "    </tr>\n",
       "    <tr>\n",
       "      <th>50%</th>\n",
       "      <td>NaN</td>\n",
       "      <td>2017.000000</td>\n",
       "      <td>NaN</td>\n",
       "      <td>NaN</td>\n",
       "      <td>NaN</td>\n",
       "      <td>NaN</td>\n",
       "      <td>NaN</td>\n",
       "      <td>2.800000e+06</td>\n",
       "      <td>NaN</td>\n",
       "    </tr>\n",
       "    <tr>\n",
       "      <th>75%</th>\n",
       "      <td>NaN</td>\n",
       "      <td>2018.000000</td>\n",
       "      <td>NaN</td>\n",
       "      <td>NaN</td>\n",
       "      <td>NaN</td>\n",
       "      <td>NaN</td>\n",
       "      <td>NaN</td>\n",
       "      <td>2.800000e+06</td>\n",
       "      <td>NaN</td>\n",
       "    </tr>\n",
       "    <tr>\n",
       "      <th>max</th>\n",
       "      <td>NaN</td>\n",
       "      <td>2021.000000</td>\n",
       "      <td>NaN</td>\n",
       "      <td>NaN</td>\n",
       "      <td>NaN</td>\n",
       "      <td>NaN</td>\n",
       "      <td>NaN</td>\n",
       "      <td>7.000000e+10</td>\n",
       "      <td>NaN</td>\n",
       "    </tr>\n",
       "  </tbody>\n",
       "</table>\n",
       "</div>"
      ],
      "text/plain": [
       "       Company_Brand      Founded HeadQuarter   Sector                      What_it_does Founders Investor        Amount Stage\n",
       "count           2853  2853.000000        2853     2853                              2853     2853     2853  2.853000e+03  2853\n",
       "unique          2152          NaN         173      837                              2690     1980     1759           NaN    71\n",
       "top         bharatpe          NaN   Bangalore  Fintech  Provides Online Learning Classes      Nan      Nan           NaN  None\n",
       "freq               9          NaN         756      256                                 5      528      525           NaN   881\n",
       "mean             NaN  2016.318612         NaN      NaN                               NaN      NaN      NaN  3.415538e+07   NaN\n",
       "std              NaN     3.757992         NaN      NaN                               NaN      NaN      NaN  1.312627e+09   NaN\n",
       "min              NaN  1963.000000         NaN      NaN                               NaN      NaN      NaN  7.500000e+03   NaN\n",
       "25%              NaN  2015.000000         NaN      NaN                               NaN      NaN      NaN  2.800000e+06   NaN\n",
       "50%              NaN  2017.000000         NaN      NaN                               NaN      NaN      NaN  2.800000e+06   NaN\n",
       "75%              NaN  2018.000000         NaN      NaN                               NaN      NaN      NaN  2.800000e+06   NaN\n",
       "max              NaN  2021.000000         NaN      NaN                               NaN      NaN      NaN  7.000000e+10   NaN"
      ]
     },
     "execution_count": 118,
     "metadata": {},
     "output_type": "execute_result"
    }
   ],
   "source": [
    "#Summary Statistics\n",
    "\n",
    "\n",
    "summary_statistics = merged_data.describe(include='all')\n",
    "print(\"Summary statistics for the dataset:\")\n",
    "summary_statistics\n",
    "\n",
    "# summary_statistics = merged_data.describe(include='all')\n",
    "# print(\"Summary statistics for the dataset:\\n\", summary_statistics)"
   ]
  },
  {
   "cell_type": "markdown",
   "metadata": {},
   "source": [
    "**Exploratory Data Analysis (EDA)**"
   ]
  },
  {
   "cell_type": "markdown",
   "metadata": {},
   "source": [
    "**Import Necessary Libraries**"
   ]
  },
  {
   "cell_type": "code",
   "execution_count": 119,
   "metadata": {},
   "outputs": [],
   "source": [
    "\n",
    "import matplotlib.pyplot as plt\n",
    "import seaborn as sns\n",
    "\n",
    "# Set the visualisation style\n",
    "sns.set(style=\"whitegrid\")\n",
    "\n",
    "# Display settings for larger outputs\n",
    "pd.set_option('display.max_columns', 20)\n",
    "pd.set_option('display.width', 1000)\n"
   ]
  },
  {
   "cell_type": "markdown",
   "metadata": {},
   "source": [
    "**Descriptive Statistics**"
   ]
  },
  {
   "cell_type": "code",
   "execution_count": 120,
   "metadata": {},
   "outputs": [
    {
     "data": {
      "text/html": [
       "<div>\n",
       "<style scoped>\n",
       "    .dataframe tbody tr th:only-of-type {\n",
       "        vertical-align: middle;\n",
       "    }\n",
       "\n",
       "    .dataframe tbody tr th {\n",
       "        vertical-align: top;\n",
       "    }\n",
       "\n",
       "    .dataframe thead th {\n",
       "        text-align: right;\n",
       "    }\n",
       "</style>\n",
       "<table border=\"1\" class=\"dataframe\">\n",
       "  <thead>\n",
       "    <tr style=\"text-align: right;\">\n",
       "      <th></th>\n",
       "      <th>Founded</th>\n",
       "      <th>Amount</th>\n",
       "    </tr>\n",
       "  </thead>\n",
       "  <tbody>\n",
       "    <tr>\n",
       "      <th>count</th>\n",
       "      <td>2853.000000</td>\n",
       "      <td>2.853000e+03</td>\n",
       "    </tr>\n",
       "    <tr>\n",
       "      <th>mean</th>\n",
       "      <td>2016.318612</td>\n",
       "      <td>3.415538e+07</td>\n",
       "    </tr>\n",
       "    <tr>\n",
       "      <th>std</th>\n",
       "      <td>3.757992</td>\n",
       "      <td>1.312627e+09</td>\n",
       "    </tr>\n",
       "    <tr>\n",
       "      <th>min</th>\n",
       "      <td>1963.000000</td>\n",
       "      <td>7.500000e+03</td>\n",
       "    </tr>\n",
       "    <tr>\n",
       "      <th>25%</th>\n",
       "      <td>2015.000000</td>\n",
       "      <td>2.800000e+06</td>\n",
       "    </tr>\n",
       "    <tr>\n",
       "      <th>50%</th>\n",
       "      <td>2017.000000</td>\n",
       "      <td>2.800000e+06</td>\n",
       "    </tr>\n",
       "    <tr>\n",
       "      <th>75%</th>\n",
       "      <td>2018.000000</td>\n",
       "      <td>2.800000e+06</td>\n",
       "    </tr>\n",
       "    <tr>\n",
       "      <th>max</th>\n",
       "      <td>2021.000000</td>\n",
       "      <td>7.000000e+10</td>\n",
       "    </tr>\n",
       "  </tbody>\n",
       "</table>\n",
       "</div>"
      ],
      "text/plain": [
       "           Founded        Amount\n",
       "count  2853.000000  2.853000e+03\n",
       "mean   2016.318612  3.415538e+07\n",
       "std       3.757992  1.312627e+09\n",
       "min    1963.000000  7.500000e+03\n",
       "25%    2015.000000  2.800000e+06\n",
       "50%    2017.000000  2.800000e+06\n",
       "75%    2018.000000  2.800000e+06\n",
       "max    2021.000000  7.000000e+10"
      ]
     },
     "execution_count": 120,
     "metadata": {},
     "output_type": "execute_result"
    }
   ],
   "source": [
    "\n",
    "\n",
    "# Frequency distribution for categorical columns\n",
    "merged_data['Company_Brand'].value_counts()\n",
    "merged_data['HeadQuarter'].value_counts()\n",
    "merged_data['Sector'].value_counts()\n",
    "merged_data['What_it_does'].value_counts()\n",
    "merged_data['Founders'].value_counts()\n",
    "merged_data['Investor'].value_counts()\n",
    "merged_data['Stage'].value_counts()\n",
    "\n",
    "# Summary statistics for numerical columns\n",
    "merged_data.describe()\n"
   ]
  },
  {
   "cell_type": "markdown",
   "metadata": {},
   "source": [
    "**Visualize the Distribution of the \"Founded\" Column**"
   ]
  },
  {
   "cell_type": "code",
   "execution_count": 121,
   "metadata": {},
   "outputs": [
    {
     "data": {
      "image/png": "[encoded data removed]",
      "text/plain": [
       "<Figure size 1000x600 with 1 Axes>"
      ]
     },
     "metadata": {},
     "output_type": "display_data"
    }
   ],
   "source": [
    "plt.figure(figsize=(10, 6))\n",
    "sns.histplot(merged_data['Founded'], bins=30, kde=True)\n",
    "plt.title('Distribution of Founded Years')\n",
    "plt.xlabel('Year Founded')\n",
    "plt.ylabel('Count')\n",
    "plt.show()\n"
   ]
  },
  {
   "cell_type": "markdown",
   "metadata": {},
   "source": [
    "**Visualize the Distribution of the \"Amount\" Column**"
   ]
  },
  {
   "cell_type": "code",
   "execution_count": 122,
   "metadata": {},
   "outputs": [
    {
     "data": {
      "image/png": "[encoded data removed]",
      "text/plain": [
       "<Figure size 1000x600 with 1 Axes>"
      ]
     },
     "metadata": {},
     "output_type": "display_data"
    }
   ],
   "source": [
    "plt.figure(figsize=(10, 6))\n",
    "sns.histplot(merged_data['Amount'], bins=30, kde=True)\n",
    "plt.title('Distribution of Investment Amounts')\n",
    "plt.xlabel('Investment Amount')\n",
    "plt.ylabel('Count')\n",
    "plt.xscale('log')  # Log scale for better visualization\n",
    "plt.show()\n"
   ]
  },
  {
   "cell_type": "markdown",
   "metadata": {},
   "source": [
    "**Bar plots for Categorical Columns**"
   ]
  },
  {
   "cell_type": "code",
   "execution_count": 123,
   "metadata": {},
   "outputs": [
    {
     "data": {
      "image/png": "[encoded data removed]",
      "text/plain": [
       "<Figure size 1000x600 with 1 Axes>"
      ]
     },
     "metadata": {},
     "output_type": "display_data"
    }
   ],
   "source": [
    "plt.figure(figsize=(10, 6))\n",
    "merged_data['HeadQuarter'].value_counts().head(10).plot(kind='bar')\n",
    "plt.title('Top 10 Headquarters')\n",
    "plt.xlabel('Location')\n",
    "plt.ylabel('Count')\n",
    "plt.show()"
   ]
  },
  {
   "cell_type": "code",
   "execution_count": 124,
   "metadata": {},
   "outputs": [
    {
     "data": {
      "image/png": "[encoded data removed]",
      "text/plain": [
       "<Figure size 1000x600 with 1 Axes>"
      ]
     },
     "metadata": {},
     "output_type": "display_data"
    }
   ],
   "source": [
    "plt.figure(figsize=(10, 6))\n",
    "merged_data['Sector'].value_counts().head(10).plot(kind='bar')\n",
    "plt.title('Top 10 Sectors')\n",
    "plt.xlabel('Sector')\n",
    "plt.ylabel('Count')\n",
    "plt.show()"
   ]
  },
  {
   "cell_type": "markdown",
   "metadata": {},
   "source": [
    "**Line Graph to Explore Relationships**"
   ]
  },
  {
   "cell_type": "code",
   "execution_count": 125,
   "metadata": {},
   "outputs": [
    {
     "data": {
      "image/png": "[encoded data removed]",
      "text/plain": [
       "<Figure size 1200x600 with 1 Axes>"
      ]
     },
     "metadata": {},
     "output_type": "display_data"
    }
   ],
   "source": [
    "\n",
    "# Aggregate the data by founding year\n",
    "\n",
    "# Calculate the average investment amount for each year\n",
    "average_investment_by_year = merged_data.groupby('Founded')['Amount'].mean().reset_index()\n",
    "\n",
    "# Plot the line chart\n",
    "plt.figure(figsize=(12, 6))\n",
    "plt.plot(average_investment_by_year['Founded'], average_investment_by_year['Amount'], marker='o')\n",
    "plt.title('Average Investment Amount by Founded Year')\n",
    "plt.xlabel('Founded Year')\n",
    "plt.ylabel('Average Investment Amount')\n",
    "plt.grid(True)\n",
    "plt.show()\n",
    "\n"
   ]
  },
  {
   "cell_type": "markdown",
   "metadata": {},
   "source": [
    "**Correlation Matrix**"
   ]
  },
  {
   "cell_type": "code",
   "execution_count": 126,
   "metadata": {},
   "outputs": [
    {
     "data": {
      "image/png": "[encoded data removed]",
      "text/plain": [
       "<Figure size 1000x800 with 2 Axes>"
      ]
     },
     "metadata": {},
     "output_type": "display_data"
    }
   ],
   "source": [
    "\n",
    "numeric_data = merged_data.select_dtypes(include='number')\n",
    "correlation_matrix = numeric_data.corr()\n",
    "\n",
    "# Plot correlation matrix\n",
    "plt.figure(figsize=(10, 8))\n",
    "sns.heatmap(correlation_matrix, annot=True, cmap='coolwarm', fmt=\".2f\")\n",
    "plt.title('Correlation Matrix')\n",
    "plt.show()\n"
   ]
  },
  {
   "cell_type": "markdown",
   "metadata": {},
   "source": [
    "**Outlier Detection**"
   ]
  },
  {
   "cell_type": "code",
   "execution_count": 127,
   "metadata": {},
   "outputs": [
    {
     "data": {
      "image/png": "[encoded data removed]",
      "text/plain": [
       "<Figure size 1000x600 with 1 Axes>"
      ]
     },
     "metadata": {},
     "output_type": "display_data"
    }
   ],
   "source": [
    "# Box plot for detecting outliers\n",
    "plt.figure(figsize=(10, 6))\n",
    "sns.boxplot(data=merged_data, x='Amount')\n",
    "plt.title('Box Plot of Investment Amount')\n",
    "plt.xlabel('Investment Amount')\n",
    "plt.show()\n"
   ]
  },
  {
   "cell_type": "markdown",
   "metadata": {},
   "source": [
    "**Unique Values**"
   ]
  },
  {
   "cell_type": "code",
   "execution_count": 128,
   "metadata": {},
   "outputs": [
    {
     "name": "stdout",
     "output_type": "stream",
     "text": [
      "Unique Company Brands: 2152\n",
      "Unique Headquarters: 173\n",
      "Unique Sectors: 837\n",
      "Unique What it Does: 2690\n",
      "Unique Founders: 1980\n",
      "Unique Investors: 1759\n",
      "Unique Stages: 71\n"
     ]
    }
   ],
   "source": [
    "# Number of unique values for each column\n",
    "unique_values = merged_data.nunique()\n",
    "unique_values\n",
    "\n",
    "# Specific unique values for categorical columns\n",
    "unique_company_brands = merged_data['Company_Brand'].unique()\n",
    "unique_headquarters = merged_data['HeadQuarter'].unique()\n",
    "unique_sectors = merged_data['Sector'].unique()\n",
    "unique_what_it_does = merged_data['What_it_does'].unique()\n",
    "unique_founders = merged_data['Founders'].unique()\n",
    "unique_investors = merged_data['Investor'].unique()\n",
    "unique_stages = merged_data['Stage'].unique()\n",
    "\n",
    "# Display counts of unique values\n",
    "print(f\"Unique Company Brands: {len(unique_company_brands)}\")\n",
    "print(f\"Unique Headquarters: {len(unique_headquarters)}\")\n",
    "print(f\"Unique Sectors: {len(unique_sectors)}\")\n",
    "print(f\"Unique What it Does: {len(unique_what_it_does)}\")\n",
    "print(f\"Unique Founders: {len(unique_founders)}\")\n",
    "print(f\"Unique Investors: {len(unique_investors)}\")\n",
    "print(f\"Unique Stages: {len(unique_stages)}\")\n"
   ]
  },
  {
   "cell_type": "markdown",
   "metadata": {},
   "source": [
    "**Further Cleaning of Datasets after EDA**"
   ]
  },
  {
   "cell_type": "markdown",
   "metadata": {},
   "source": [
    "**Normalize the \"HeadQuarter\" Column**"
   ]
  },
  {
   "cell_type": "code",
   "execution_count": 129,
   "metadata": {},
   "outputs": [],
   "source": [
    "# Define a function to extract city names\n",
    "def extract_city(location):\n",
    "    if pd.isna(location):\n",
    "        return location\n",
    "    return location.split(',')[0].strip()\n",
    "\n",
    "# Apply the function to the 'HeadQuarter' column\n",
    "merged_data['HeadQuarter'] = merged_data['HeadQuarter'].apply(extract_city)\n",
    "\n",
    "# # Verify the changes\n",
    "# unique_headquarters = merged_data['HeadQuarter'].unique()\n",
    "# print(f\"Unique Headquarters after normalization: {unique_headquarters}\")"
   ]
  },
  {
   "cell_type": "markdown",
   "metadata": {},
   "source": [
    "**Replot the \"\"Top 10 Headquarters\"\"**"
   ]
  },
  {
   "cell_type": "code",
   "execution_count": 130,
   "metadata": {},
   "outputs": [
    {
     "data": {
      "image/png": "[encoded data removed]",
      "text/plain": [
       "<Figure size 1000x600 with 1 Axes>"
      ]
     },
     "metadata": {},
     "output_type": "display_data"
    }
   ],
   "source": [
    "plt.figure(figsize=(10, 6))\n",
    "merged_data['HeadQuarter'].value_counts().head(10).plot(kind='bar')\n",
    "plt.title('Top 10 Headquarters')\n",
    "plt.xlabel('Location')\n",
    "plt.ylabel('Count')\n",
    "plt.show()"
   ]
  },
  {
   "cell_type": "code",
   "execution_count": 131,
   "metadata": {},
   "outputs": [
    {
     "name": "stdout",
     "output_type": "stream",
     "text": [
      "Outliers in 'Amount':\n"
     ]
    },
    {
     "data": {
      "text/html": [
       "<div>\n",
       "<style scoped>\n",
       "    .dataframe tbody tr th:only-of-type {\n",
       "        vertical-align: middle;\n",
       "    }\n",
       "\n",
       "    .dataframe tbody tr th {\n",
       "        vertical-align: top;\n",
       "    }\n",
       "\n",
       "    .dataframe thead th {\n",
       "        text-align: right;\n",
       "    }\n",
       "</style>\n",
       "<table border=\"1\" class=\"dataframe\">\n",
       "  <thead>\n",
       "    <tr style=\"text-align: right;\">\n",
       "      <th></th>\n",
       "      <th>Company_Brand</th>\n",
       "      <th>Founded</th>\n",
       "      <th>HeadQuarter</th>\n",
       "      <th>Sector</th>\n",
       "      <th>What_it_does</th>\n",
       "      <th>Founders</th>\n",
       "      <th>Investor</th>\n",
       "      <th>Amount</th>\n",
       "      <th>Stage</th>\n",
       "    </tr>\n",
       "  </thead>\n",
       "  <tbody>\n",
       "    <tr>\n",
       "      <th>0</th>\n",
       "      <td>aqgromalin</td>\n",
       "      <td>2019</td>\n",
       "      <td>Chennai</td>\n",
       "      <td>Agritech</td>\n",
       "      <td>Cultivating Ideas For Profit</td>\n",
       "      <td>Prasanna Manogaran, Bharani C L</td>\n",
       "      <td>Angel Investors</td>\n",
       "      <td>200000.0</td>\n",
       "      <td>None</td>\n",
       "    </tr>\n",
       "    <tr>\n",
       "      <th>1</th>\n",
       "      <td>krayonnz</td>\n",
       "      <td>2019</td>\n",
       "      <td>Bangalore</td>\n",
       "      <td>Edtech</td>\n",
       "      <td>An Academy-Guardian-Scholar Centric Ecosystem ...</td>\n",
       "      <td>Saurabh Dixit, Gurudutt Upadhyay</td>\n",
       "      <td>Gsf Accelerator</td>\n",
       "      <td>100000.0</td>\n",
       "      <td>Pre-Seed</td>\n",
       "    </tr>\n",
       "    <tr>\n",
       "      <th>3</th>\n",
       "      <td>ncome</td>\n",
       "      <td>2020</td>\n",
       "      <td>New Delhi</td>\n",
       "      <td>Escrow</td>\n",
       "      <td>Escrow-As-A-Service Platform</td>\n",
       "      <td>Ritesh Tiwari</td>\n",
       "      <td>Venture Catalysts, Pointone Capital</td>\n",
       "      <td>400000.0</td>\n",
       "      <td>None</td>\n",
       "    </tr>\n",
       "    <tr>\n",
       "      <th>4</th>\n",
       "      <td>gramophone</td>\n",
       "      <td>2016</td>\n",
       "      <td>Indore</td>\n",
       "      <td>Agritech</td>\n",
       "      <td>Gramophone Is An Agtech Platform Enabling Acce...</td>\n",
       "      <td>Ashish Rajan Singh, Harshit Gupta, Nishant Mah...</td>\n",
       "      <td>Siana Capital Management, Info Edge</td>\n",
       "      <td>340000.0</td>\n",
       "      <td>None</td>\n",
       "    </tr>\n",
       "    <tr>\n",
       "      <th>5</th>\n",
       "      <td>qzense</td>\n",
       "      <td>2019</td>\n",
       "      <td>Bangalore</td>\n",
       "      <td>Agritech</td>\n",
       "      <td>Qzense Labs Is Building The Next-Generation Io...</td>\n",
       "      <td>Rubal Chib, Dr Srishti Batra</td>\n",
       "      <td>Venture Catalysts, 9Unicorns Accelerator Fund</td>\n",
       "      <td>600000.0</td>\n",
       "      <td>Seed</td>\n",
       "    </tr>\n",
       "    <tr>\n",
       "      <th>...</th>\n",
       "      <td>...</td>\n",
       "      <td>...</td>\n",
       "      <td>...</td>\n",
       "      <td>...</td>\n",
       "      <td>...</td>\n",
       "      <td>...</td>\n",
       "      <td>...</td>\n",
       "      <td>...</td>\n",
       "      <td>...</td>\n",
       "    </tr>\n",
       "    <tr>\n",
       "      <th>2783</th>\n",
       "      <td>dailyhunt</td>\n",
       "      <td>2017</td>\n",
       "      <td>Bangalore</td>\n",
       "      <td>Information Technology, Mobile, News, Operatin...</td>\n",
       "      <td>Newshunt Is A Bangalore Based Ebooks Company.</td>\n",
       "      <td>Nan</td>\n",
       "      <td>Nan</td>\n",
       "      <td>6000000.0</td>\n",
       "      <td>Series E</td>\n",
       "    </tr>\n",
       "    <tr>\n",
       "      <th>2784</th>\n",
       "      <td>slicepay</td>\n",
       "      <td>2017</td>\n",
       "      <td>Bengaluru</td>\n",
       "      <td>Fintech, Internet, Payments, Service Industry</td>\n",
       "      <td>Slicepay Is An Ai Based Instant Credit App For...</td>\n",
       "      <td>Nan</td>\n",
       "      <td>Nan</td>\n",
       "      <td>14900000.0</td>\n",
       "      <td>Series A</td>\n",
       "    </tr>\n",
       "    <tr>\n",
       "      <th>2785</th>\n",
       "      <td>udaan</td>\n",
       "      <td>2017</td>\n",
       "      <td>Bangalore</td>\n",
       "      <td>B2B, Business Development, Internet, Marketplace</td>\n",
       "      <td>Udaan Is A B2B Trade Platform, Designed Specif...</td>\n",
       "      <td>Nan</td>\n",
       "      <td>Nan</td>\n",
       "      <td>225000000.0</td>\n",
       "      <td>Series C</td>\n",
       "    </tr>\n",
       "    <tr>\n",
       "      <th>2787</th>\n",
       "      <td>mombay</td>\n",
       "      <td>2017</td>\n",
       "      <td>Mumbai</td>\n",
       "      <td>Food And Beverage, Food Delivery, Internet</td>\n",
       "      <td>Mombay Is A Unique Opportunity For Housewives ...</td>\n",
       "      <td>Nan</td>\n",
       "      <td>Nan</td>\n",
       "      <td>7500.0</td>\n",
       "      <td>Seed</td>\n",
       "    </tr>\n",
       "    <tr>\n",
       "      <th>2789</th>\n",
       "      <td>netmeds</td>\n",
       "      <td>2017</td>\n",
       "      <td>Chennai</td>\n",
       "      <td>Biotechnology, Health Care, Pharmaceutical</td>\n",
       "      <td>Welcome To India'S Most Convenient Pharmacy!</td>\n",
       "      <td>Nan</td>\n",
       "      <td>Nan</td>\n",
       "      <td>35000000.0</td>\n",
       "      <td>Series C</td>\n",
       "    </tr>\n",
       "  </tbody>\n",
       "</table>\n",
       "<p>971 rows × 9 columns</p>\n",
       "</div>"
      ],
      "text/plain": [
       "     Company_Brand  Founded HeadQuarter                                             Sector                                       What_it_does                                           Founders                                       Investor       Amount     Stage\n",
       "0       aqgromalin     2019     Chennai                                           Agritech                       Cultivating Ideas For Profit                    Prasanna Manogaran, Bharani C L                                Angel Investors     200000.0      None\n",
       "1         krayonnz     2019   Bangalore                                             Edtech  An Academy-Guardian-Scholar Centric Ecosystem ...                   Saurabh Dixit, Gurudutt Upadhyay                                Gsf Accelerator     100000.0  Pre-Seed\n",
       "3            ncome     2020   New Delhi                                             Escrow                       Escrow-As-A-Service Platform                                      Ritesh Tiwari            Venture Catalysts, Pointone Capital     400000.0      None\n",
       "4       gramophone     2016      Indore                                           Agritech  Gramophone Is An Agtech Platform Enabling Acce...  Ashish Rajan Singh, Harshit Gupta, Nishant Mah...            Siana Capital Management, Info Edge     340000.0      None\n",
       "5           qzense     2019   Bangalore                                           Agritech  Qzense Labs Is Building The Next-Generation Io...                       Rubal Chib, Dr Srishti Batra  Venture Catalysts, 9Unicorns Accelerator Fund     600000.0      Seed\n",
       "...            ...      ...         ...                                                ...                                                ...                                                ...                                            ...          ...       ...\n",
       "2783     dailyhunt     2017   Bangalore  Information Technology, Mobile, News, Operatin...      Newshunt Is A Bangalore Based Ebooks Company.                                                Nan                                            Nan    6000000.0  Series E\n",
       "2784      slicepay     2017   Bengaluru      Fintech, Internet, Payments, Service Industry  Slicepay Is An Ai Based Instant Credit App For...                                                Nan                                            Nan   14900000.0  Series A\n",
       "2785         udaan     2017   Bangalore   B2B, Business Development, Internet, Marketplace  Udaan Is A B2B Trade Platform, Designed Specif...                                                Nan                                            Nan  225000000.0  Series C\n",
       "2787        mombay     2017      Mumbai         Food And Beverage, Food Delivery, Internet  Mombay Is A Unique Opportunity For Housewives ...                                                Nan                                            Nan       7500.0      Seed\n",
       "2789       netmeds     2017     Chennai         Biotechnology, Health Care, Pharmaceutical       Welcome To India'S Most Convenient Pharmacy!                                                Nan                                            Nan   35000000.0  Series C\n",
       "\n",
       "[971 rows x 9 columns]"
      ]
     },
     "execution_count": 131,
     "metadata": {},
     "output_type": "execute_result"
    }
   ],
   "source": [
    "# Calculate Q1 (25th percentile) and Q3 (75th percentile)\n",
    "Q1 = merged_data['Amount'].quantile(0.25)\n",
    "Q3 = merged_data['Amount'].quantile(0.75)\n",
    "IQR = Q3 - Q1\n",
    "\n",
    "# Identify outliers using the IQR method\n",
    "outliers = merged_data[(merged_data['Amount'] < (Q1 - 1.5 * IQR)) | (merged_data['Amount'] > (Q3 + 1.5 * IQR))]\n",
    "# print(f\"Outliers in 'Amount':\\n{outliers}\")\n",
    "\n",
    "print(f\"Outliers in 'Amount':\")\n",
    "outliers\n",
    "\n"
   ]
  },
  {
   "cell_type": "markdown",
   "metadata": {},
   "source": [
    "**Outliers in amount will be handled by capping them. This will limit their influence on the overall analysis without removing valuable data.**"
   ]
  },
  {
   "cell_type": "code",
   "execution_count": 132,
   "metadata": {},
   "outputs": [
    {
     "data": {
      "image/png": "[encoded data removed]",
      "text/plain": [
       "<Figure size 1000x600 with 1 Axes>"
      ]
     },
     "metadata": {},
     "output_type": "display_data"
    }
   ],
   "source": [
    "# Cap the outliers\n",
    "# Define the caps\n",
    "lower_cap = Q1 - 1.5 * IQR\n",
    "upper_cap = Q3 + 1.5 * IQR\n",
    "\n",
    "# Cap the 'Amount' column\n",
    "merged_data['Amount_capped'] = merged_data['Amount'].clip(lower=lower_cap, upper=upper_cap)\n",
    "\n",
    "# Visualize the data after handling outliers\n",
    "plt.figure(figsize=(10, 6))\n",
    "plt.boxplot(merged_data['Amount_capped'], vert=False)\n",
    "plt.title('Box Plot of Investment Amount (After Handling Outliers)')\n",
    "plt.xlabel('Investment Amount')\n",
    "plt.grid(True)\n",
    "plt.show()\n"
   ]
  },
  {
   "cell_type": "code",
   "execution_count": 133,
   "metadata": {},
   "outputs": [
    {
     "name": "stdout",
     "output_type": "stream",
     "text": [
      "<class 'pandas.core.frame.DataFrame'>\n",
      "Index: 2853 entries, 0 to 2878\n",
      "Data columns (total 10 columns):\n",
      " #   Column         Non-Null Count  Dtype  \n",
      "---  ------         --------------  -----  \n",
      " 0   Company_Brand  2853 non-null   object \n",
      " 1   Founded        2853 non-null   int32  \n",
      " 2   HeadQuarter    2853 non-null   object \n",
      " 3   Sector         2853 non-null   object \n",
      " 4   What_it_does   2853 non-null   object \n",
      " 5   Founders       2853 non-null   object \n",
      " 6   Investor       2853 non-null   object \n",
      " 7   Amount         2853 non-null   float64\n",
      " 8   Stage          2853 non-null   object \n",
      " 9   Amount_capped  2853 non-null   float64\n",
      "dtypes: float64(2), int32(1), object(7)\n",
      "memory usage: 234.0+ KB\n"
     ]
    }
   ],
   "source": [
    "merged_data.info ()"
   ]
  },
  {
   "cell_type": "code",
   "execution_count": 134,
   "metadata": {},
   "outputs": [
    {
     "name": "stdout",
     "output_type": "stream",
     "text": [
      "        Company_Brand  Founded HeadQuarter                   Sector                                       What_it_does                                           Founders                                           Investor     Amount     Stage  Amount_capped\n",
      "0          aqgromalin     2019     Chennai                 Agritech                       Cultivating Ideas For Profit                    Prasanna Manogaran, Bharani C L                                    Angel Investors   200000.0      None      2800000.0\n",
      "1            krayonnz     2019   Bangalore                   Edtech  An Academy-Guardian-Scholar Centric Ecosystem ...                   Saurabh Dixit, Gurudutt Upadhyay                                    Gsf Accelerator   100000.0  Pre-Seed      2800000.0\n",
      "2        padcare labs     2018        Pune       Hygiene Management   Converting Bio-Hazardous Waste To Harmless Waste                                    Ajinkya Dhariya                                     Venture Center  2800000.0  Pre-Seed      2800000.0\n",
      "3               ncome     2020   New Delhi                   Escrow                       Escrow-As-A-Service Platform                                      Ritesh Tiwari                Venture Catalysts, Pointone Capital   400000.0      None      2800000.0\n",
      "4          gramophone     2016      Indore                 Agritech  Gramophone Is An Agtech Platform Enabling Acce...  Ashish Rajan Singh, Harshit Gupta, Nishant Mah...                Siana Capital Management, Info Edge   340000.0      None      2800000.0\n",
      "...               ...      ...         ...                      ...                                                ...                                                ...                                                ...        ...       ...            ...\n",
      "2874     infra.market     2017      Mumbai                Infratech  It Connects Client Requirements To Their Suppl...                    Aaditya Sharda, Souvik Sengupta  Tiger Global, Nexus Venture Partners, Accel Pa...  2800000.0  Series A      2800000.0\n",
      "2875              oyo     2013    Gurugram              Hospitality                Provides Rooms For Comfortable Stay                                     Ritesh Agarwal  Mypreferred Transformation, Avendus Finance, S...  2800000.0       Nan      2800000.0\n",
      "2876       gomechanic     2016       Delhi  Automobile & Technology  Find Automobile Repair And Maintenance Service...  Amit Bhasin, Kushal Karwa, Nitin Rana, Rishabh...                                    Sequoia Capital  2800000.0  Series B      2800000.0\n",
      "2877           spinny     2015       Delhi               Automobile                                Online Car Retailer  Niraj Singh, Ramanshu Mahaur, Ganesh Pawar, Mo...  Norwest Venture Partners, General Catalyst, Fu...  2800000.0       Nan      2800000.0\n",
      "2878  ess kay fincorp     2017   Rajasthan                  Banking              Organised Non-Banking Finance Company                                     Rajendra Setia     Tpg, Norwest Venture Partners, Evolvence India  2800000.0       Nan      2800000.0\n",
      "\n",
      "[2853 rows x 10 columns]\n"
     ]
    }
   ],
   "source": [
    "print(merged_data)"
   ]
  }
 ],
 "metadata": {
  "kernelspec": {
   "display_name": "Python 3",
   "language": "python",
   "name": "python3"
  },
  "language_info": {
   "codemirror_mode": {
    "name": "ipython",
    "version": 3
   },
   "file_extension": ".py",
   "mimetype": "text/x-python",
   "name": "python",
   "nbconvert_exporter": "python",
   "pygments_lexer": "ipython3",
   "version": "3.10.9"
  }
 },
 "nbformat": 4,
 "nbformat_minor": 2
}
